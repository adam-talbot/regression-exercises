{
 "cells": [
  {
   "cell_type": "markdown",
   "id": "160600e4-f9a7-4db1-88d0-888c5392c015",
   "metadata": {},
   "source": [
    "# Evaluation Exercises"
   ]
  },
  {
   "cell_type": "code",
   "execution_count": 1,
   "id": "3717bcf6-9b3a-479d-bd1a-b13a0a1358d6",
   "metadata": {},
   "outputs": [],
   "source": [
    "# standard imports\n",
    "import pandas as pd\n",
    "import numpy as np\n",
    "import seaborn as sns\n",
    "import matplotlib.pyplot as plt\n",
    "\n",
    "from sklearn.linear_model import LinearRegression\n",
    "from sklearn.metrics import mean_squared_error\n",
    "\n",
    "from pydataset import data\n",
    "\n",
    "# ignore warnings\n",
    "import warnings\n",
    "warnings.filterwarnings(\"ignore\")"
   ]
  },
  {
   "cell_type": "markdown",
   "id": "2496e815-6cd5-4e05-9220-098f427e64fb",
   "metadata": {},
   "source": [
    "Do you work for this exercise in either a jupyter notebook named `evaluate` within your `regression-exercises` repository. By the end of this exercise you will also create a python script named `evaluate`, so the overall deliverables for this exercise are the python script and jupyter notebook both with the name `evaluate` within your `regression-exercises` repo."
   ]
  },
  {
   "cell_type": "markdown",
   "id": "3ee14495-82e7-4c5f-933e-1d01ec821f8c",
   "metadata": {},
   "source": [
    "## 1."
   ]
  },
  {
   "cell_type": "markdown",
   "id": "cbc49c0c-c175-4d2f-8c7f-d991207a0f70",
   "metadata": {},
   "source": [
    "Load the `tips` dataset from either `pydataset` or `seaborn`."
   ]
  },
  {
   "cell_type": "code",
   "execution_count": 2,
   "id": "b99fe53d-7ede-4708-835b-1af30a9b5c4a",
   "metadata": {},
   "outputs": [],
   "source": [
    "df = data('tips')"
   ]
  },
  {
   "cell_type": "code",
   "execution_count": 3,
   "id": "7d314a1a-860b-4ba6-bc8a-fa7b881166d8",
   "metadata": {},
   "outputs": [
    {
     "data": {
      "text/html": [
       "<div>\n",
       "<style scoped>\n",
       "    .dataframe tbody tr th:only-of-type {\n",
       "        vertical-align: middle;\n",
       "    }\n",
       "\n",
       "    .dataframe tbody tr th {\n",
       "        vertical-align: top;\n",
       "    }\n",
       "\n",
       "    .dataframe thead th {\n",
       "        text-align: right;\n",
       "    }\n",
       "</style>\n",
       "<table border=\"1\" class=\"dataframe\">\n",
       "  <thead>\n",
       "    <tr style=\"text-align: right;\">\n",
       "      <th></th>\n",
       "      <th>total_bill</th>\n",
       "      <th>tip</th>\n",
       "      <th>sex</th>\n",
       "      <th>smoker</th>\n",
       "      <th>day</th>\n",
       "      <th>time</th>\n",
       "      <th>size</th>\n",
       "    </tr>\n",
       "  </thead>\n",
       "  <tbody>\n",
       "    <tr>\n",
       "      <th>1</th>\n",
       "      <td>16.99</td>\n",
       "      <td>1.01</td>\n",
       "      <td>Female</td>\n",
       "      <td>No</td>\n",
       "      <td>Sun</td>\n",
       "      <td>Dinner</td>\n",
       "      <td>2</td>\n",
       "    </tr>\n",
       "    <tr>\n",
       "      <th>2</th>\n",
       "      <td>10.34</td>\n",
       "      <td>1.66</td>\n",
       "      <td>Male</td>\n",
       "      <td>No</td>\n",
       "      <td>Sun</td>\n",
       "      <td>Dinner</td>\n",
       "      <td>3</td>\n",
       "    </tr>\n",
       "    <tr>\n",
       "      <th>3</th>\n",
       "      <td>21.01</td>\n",
       "      <td>3.50</td>\n",
       "      <td>Male</td>\n",
       "      <td>No</td>\n",
       "      <td>Sun</td>\n",
       "      <td>Dinner</td>\n",
       "      <td>3</td>\n",
       "    </tr>\n",
       "    <tr>\n",
       "      <th>4</th>\n",
       "      <td>23.68</td>\n",
       "      <td>3.31</td>\n",
       "      <td>Male</td>\n",
       "      <td>No</td>\n",
       "      <td>Sun</td>\n",
       "      <td>Dinner</td>\n",
       "      <td>2</td>\n",
       "    </tr>\n",
       "    <tr>\n",
       "      <th>5</th>\n",
       "      <td>24.59</td>\n",
       "      <td>3.61</td>\n",
       "      <td>Female</td>\n",
       "      <td>No</td>\n",
       "      <td>Sun</td>\n",
       "      <td>Dinner</td>\n",
       "      <td>4</td>\n",
       "    </tr>\n",
       "  </tbody>\n",
       "</table>\n",
       "</div>"
      ],
      "text/plain": [
       "   total_bill   tip     sex smoker  day    time  size\n",
       "1       16.99  1.01  Female     No  Sun  Dinner     2\n",
       "2       10.34  1.66    Male     No  Sun  Dinner     3\n",
       "3       21.01  3.50    Male     No  Sun  Dinner     3\n",
       "4       23.68  3.31    Male     No  Sun  Dinner     2\n",
       "5       24.59  3.61  Female     No  Sun  Dinner     4"
      ]
     },
     "execution_count": 3,
     "metadata": {},
     "output_type": "execute_result"
    }
   ],
   "source": [
    "df.head()"
   ]
  },
  {
   "cell_type": "code",
   "execution_count": 4,
   "id": "5f19a7ce-9bea-4903-88fa-6f6fb48de00e",
   "metadata": {},
   "outputs": [
    {
     "data": {
      "image/png": "[encoded data removed]",
      "text/plain": [
       "<Figure size 432x288 with 1 Axes>"
      ]
     },
     "metadata": {
      "needs_background": "light"
     },
     "output_type": "display_data"
    }
   ],
   "source": [
    "# check to see if variables of interest are normally distributed\n",
    "df.total_bill.hist();"
   ]
  },
  {
   "cell_type": "code",
   "execution_count": 5,
   "id": "1c103307-d3f1-475c-807b-e6cbcee56fbf",
   "metadata": {},
   "outputs": [
    {
     "data": {
      "image/png": "[encoded data removed]",
      "text/plain": [
       "<Figure size 432x288 with 1 Axes>"
      ]
     },
     "metadata": {
      "needs_background": "light"
     },
     "output_type": "display_data"
    }
   ],
   "source": [
    "df.tip.hist();"
   ]
  },
  {
   "cell_type": "code",
   "execution_count": 6,
   "id": "d51fada8-f601-4c6e-b47a-78d630392dad",
   "metadata": {},
   "outputs": [],
   "source": [
    "# create baseline (mean of dependent variable (tip))"
   ]
  },
  {
   "cell_type": "code",
   "execution_count": 7,
   "id": "8079fac7-9242-4282-8120-44e22a3da0fa",
   "metadata": {},
   "outputs": [],
   "source": [
    "df['baseline'] = df.tip.mean()"
   ]
  },
  {
   "cell_type": "code",
   "execution_count": 8,
   "id": "fafb0d58-3c19-484d-a038-20492906f2d6",
   "metadata": {},
   "outputs": [
    {
     "data": {
      "text/html": [
       "<div>\n",
       "<style scoped>\n",
       "    .dataframe tbody tr th:only-of-type {\n",
       "        vertical-align: middle;\n",
       "    }\n",
       "\n",
       "    .dataframe tbody tr th {\n",
       "        vertical-align: top;\n",
       "    }\n",
       "\n",
       "    .dataframe thead th {\n",
       "        text-align: right;\n",
       "    }\n",
       "</style>\n",
       "<table border=\"1\" class=\"dataframe\">\n",
       "  <thead>\n",
       "    <tr style=\"text-align: right;\">\n",
       "      <th></th>\n",
       "      <th>total_bill</th>\n",
       "      <th>tip</th>\n",
       "      <th>sex</th>\n",
       "      <th>smoker</th>\n",
       "      <th>day</th>\n",
       "      <th>time</th>\n",
       "      <th>size</th>\n",
       "      <th>baseline</th>\n",
       "    </tr>\n",
       "  </thead>\n",
       "  <tbody>\n",
       "    <tr>\n",
       "      <th>1</th>\n",
       "      <td>16.99</td>\n",
       "      <td>1.01</td>\n",
       "      <td>Female</td>\n",
       "      <td>No</td>\n",
       "      <td>Sun</td>\n",
       "      <td>Dinner</td>\n",
       "      <td>2</td>\n",
       "      <td>2.998279</td>\n",
       "    </tr>\n",
       "    <tr>\n",
       "      <th>2</th>\n",
       "      <td>10.34</td>\n",
       "      <td>1.66</td>\n",
       "      <td>Male</td>\n",
       "      <td>No</td>\n",
       "      <td>Sun</td>\n",
       "      <td>Dinner</td>\n",
       "      <td>3</td>\n",
       "      <td>2.998279</td>\n",
       "    </tr>\n",
       "    <tr>\n",
       "      <th>3</th>\n",
       "      <td>21.01</td>\n",
       "      <td>3.50</td>\n",
       "      <td>Male</td>\n",
       "      <td>No</td>\n",
       "      <td>Sun</td>\n",
       "      <td>Dinner</td>\n",
       "      <td>3</td>\n",
       "      <td>2.998279</td>\n",
       "    </tr>\n",
       "    <tr>\n",
       "      <th>4</th>\n",
       "      <td>23.68</td>\n",
       "      <td>3.31</td>\n",
       "      <td>Male</td>\n",
       "      <td>No</td>\n",
       "      <td>Sun</td>\n",
       "      <td>Dinner</td>\n",
       "      <td>2</td>\n",
       "      <td>2.998279</td>\n",
       "    </tr>\n",
       "    <tr>\n",
       "      <th>5</th>\n",
       "      <td>24.59</td>\n",
       "      <td>3.61</td>\n",
       "      <td>Female</td>\n",
       "      <td>No</td>\n",
       "      <td>Sun</td>\n",
       "      <td>Dinner</td>\n",
       "      <td>4</td>\n",
       "      <td>2.998279</td>\n",
       "    </tr>\n",
       "  </tbody>\n",
       "</table>\n",
       "</div>"
      ],
      "text/plain": [
       "   total_bill   tip     sex smoker  day    time  size  baseline\n",
       "1       16.99  1.01  Female     No  Sun  Dinner     2  2.998279\n",
       "2       10.34  1.66    Male     No  Sun  Dinner     3  2.998279\n",
       "3       21.01  3.50    Male     No  Sun  Dinner     3  2.998279\n",
       "4       23.68  3.31    Male     No  Sun  Dinner     2  2.998279\n",
       "5       24.59  3.61  Female     No  Sun  Dinner     4  2.998279"
      ]
     },
     "execution_count": 8,
     "metadata": {},
     "output_type": "execute_result"
    }
   ],
   "source": [
    "df.head()"
   ]
  },
  {
   "cell_type": "code",
   "execution_count": 9,
   "id": "19747a99-5d72-4d77-8783-01400fcfa38b",
   "metadata": {},
   "outputs": [
    {
     "data": {
      "image/png": "[encoded data removed]",
      "text/plain": [
       "<Figure size 432x288 with 1 Axes>"
      ]
     },
     "metadata": {
      "needs_background": "light"
     },
     "output_type": "display_data"
    }
   ],
   "source": [
    "# plot data with baseline:\n",
    "\n",
    "plt.scatter(df.total_bill, df.tip)\n",
    "plt.axhline(df.tip.mean(), ls = ':')\n",
    "plt.xlabel('x = total_bill')\n",
    "plt.ylabel('y = tip')\n",
    "plt.title('Baseline model');"
   ]
  },
  {
   "cell_type": "code",
   "execution_count": 10,
   "id": "8cff809f-a698-47d7-801d-b422bc5d0305",
   "metadata": {},
   "outputs": [],
   "source": [
    "# make function\n",
    "def plot_baseline(x, y):\n",
    "    plt.scatter(x, y)\n",
    "    plt.axhline(y.mean(), ls = ':')\n",
    "    plt.xlabel('x')\n",
    "    plt.ylabel('y')\n",
    "    plt.title('Baseline model');"
   ]
  },
  {
   "cell_type": "code",
   "execution_count": 11,
   "id": "22528271-bc30-4f1f-95b8-5875b9988ab8",
   "metadata": {},
   "outputs": [
    {
     "data": {
      "image/png": "[encoded data removed]",
      "text/plain": [
       "<Figure size 432x288 with 1 Axes>"
      ]
     },
     "metadata": {
      "needs_background": "light"
     },
     "output_type": "display_data"
    }
   ],
   "source": [
    "plot_baseline(df.total_bill, df.tip)"
   ]
  },
  {
   "cell_type": "markdown",
   "id": "d23b6faf-0e7a-428f-8834-00b0a8608735",
   "metadata": {},
   "source": [
    "## 2."
   ]
  },
  {
   "attachments": {
    "276b9fd3-0275-4fcc-b107-e38c9aa54162.png": {
     "image/png": "[encoded data removed]"
    }
   },
   "cell_type": "markdown",
   "id": "a2f11478-1193-41cc-8692-5b93ba6d0e38",
   "metadata": {},
   "source": [
    "Fit a linear regression model (ordinary least squares) and compute `yhat`, predictions of `tip` using `total_bill`.\n",
    "\n",
    "Here is some sample code to get you started:\n",
    "\n",
    "![image.png](attachment:276b9fd3-0275-4fcc-b107-e38c9aa54162.png)\n",
    "\n",
    "Modify and add to the code above as necessary for it to work with the tips dataset."
   ]
  },
  {
   "cell_type": "code",
   "execution_count": 12,
   "id": "83448327-ff8a-4215-910b-cda120296172",
   "metadata": {},
   "outputs": [],
   "source": [
    "# create model\n",
    "lm = LinearRegression(normalize=True)"
   ]
  },
  {
   "cell_type": "code",
   "execution_count": 13,
   "id": "832143d4-cef5-4bb6-803d-b89614e6a36b",
   "metadata": {},
   "outputs": [
    {
     "data": {
      "text/plain": [
       "LinearRegression(normalize=True)"
      ]
     },
     "execution_count": 13,
     "metadata": {},
     "output_type": "execute_result"
    }
   ],
   "source": [
    "# fit the model\n",
    "lm.fit(df[['total_bill']], df.tip)"
   ]
  },
  {
   "cell_type": "code",
   "execution_count": 14,
   "id": "bf94a93c-5142-4a37-a46f-19db7d30c1c5",
   "metadata": {},
   "outputs": [],
   "source": [
    "# make predictions\n",
    "df['yhat'] = lm.predict(df[['total_bill']])"
   ]
  },
  {
   "cell_type": "code",
   "execution_count": 15,
   "id": "9e88f915-f507-4f14-abc5-3ce5f756a1a3",
   "metadata": {},
   "outputs": [
    {
     "data": {
      "text/html": [
       "<div>\n",
       "<style scoped>\n",
       "    .dataframe tbody tr th:only-of-type {\n",
       "        vertical-align: middle;\n",
       "    }\n",
       "\n",
       "    .dataframe tbody tr th {\n",
       "        vertical-align: top;\n",
       "    }\n",
       "\n",
       "    .dataframe thead th {\n",
       "        text-align: right;\n",
       "    }\n",
       "</style>\n",
       "<table border=\"1\" class=\"dataframe\">\n",
       "  <thead>\n",
       "    <tr style=\"text-align: right;\">\n",
       "      <th></th>\n",
       "      <th>total_bill</th>\n",
       "      <th>tip</th>\n",
       "      <th>sex</th>\n",
       "      <th>smoker</th>\n",
       "      <th>day</th>\n",
       "      <th>time</th>\n",
       "      <th>size</th>\n",
       "      <th>baseline</th>\n",
       "      <th>yhat</th>\n",
       "    </tr>\n",
       "  </thead>\n",
       "  <tbody>\n",
       "    <tr>\n",
       "      <th>1</th>\n",
       "      <td>16.99</td>\n",
       "      <td>1.01</td>\n",
       "      <td>Female</td>\n",
       "      <td>No</td>\n",
       "      <td>Sun</td>\n",
       "      <td>Dinner</td>\n",
       "      <td>2</td>\n",
       "      <td>2.998279</td>\n",
       "      <td>2.704636</td>\n",
       "    </tr>\n",
       "    <tr>\n",
       "      <th>2</th>\n",
       "      <td>10.34</td>\n",
       "      <td>1.66</td>\n",
       "      <td>Male</td>\n",
       "      <td>No</td>\n",
       "      <td>Sun</td>\n",
       "      <td>Dinner</td>\n",
       "      <td>3</td>\n",
       "      <td>2.998279</td>\n",
       "      <td>2.006223</td>\n",
       "    </tr>\n",
       "    <tr>\n",
       "      <th>3</th>\n",
       "      <td>21.01</td>\n",
       "      <td>3.50</td>\n",
       "      <td>Male</td>\n",
       "      <td>No</td>\n",
       "      <td>Sun</td>\n",
       "      <td>Dinner</td>\n",
       "      <td>3</td>\n",
       "      <td>2.998279</td>\n",
       "      <td>3.126835</td>\n",
       "    </tr>\n",
       "    <tr>\n",
       "      <th>4</th>\n",
       "      <td>23.68</td>\n",
       "      <td>3.31</td>\n",
       "      <td>Male</td>\n",
       "      <td>No</td>\n",
       "      <td>Sun</td>\n",
       "      <td>Dinner</td>\n",
       "      <td>2</td>\n",
       "      <td>2.998279</td>\n",
       "      <td>3.407250</td>\n",
       "    </tr>\n",
       "    <tr>\n",
       "      <th>5</th>\n",
       "      <td>24.59</td>\n",
       "      <td>3.61</td>\n",
       "      <td>Female</td>\n",
       "      <td>No</td>\n",
       "      <td>Sun</td>\n",
       "      <td>Dinner</td>\n",
       "      <td>4</td>\n",
       "      <td>2.998279</td>\n",
       "      <td>3.502822</td>\n",
       "    </tr>\n",
       "  </tbody>\n",
       "</table>\n",
       "</div>"
      ],
      "text/plain": [
       "   total_bill   tip     sex smoker  day    time  size  baseline      yhat\n",
       "1       16.99  1.01  Female     No  Sun  Dinner     2  2.998279  2.704636\n",
       "2       10.34  1.66    Male     No  Sun  Dinner     3  2.998279  2.006223\n",
       "3       21.01  3.50    Male     No  Sun  Dinner     3  2.998279  3.126835\n",
       "4       23.68  3.31    Male     No  Sun  Dinner     2  2.998279  3.407250\n",
       "5       24.59  3.61  Female     No  Sun  Dinner     4  2.998279  3.502822"
      ]
     },
     "execution_count": 15,
     "metadata": {},
     "output_type": "execute_result"
    }
   ],
   "source": [
    "df.head()"
   ]
  },
  {
   "cell_type": "code",
   "execution_count": 16,
   "id": "0d545aec-11dd-4208-af92-e589b5a0bc23",
   "metadata": {},
   "outputs": [
    {
     "data": {
      "image/png": "[encoded data removed]",
      "text/plain": [
       "<Figure size 432x288 with 1 Axes>"
      ]
     },
     "metadata": {
      "needs_background": "light"
     },
     "output_type": "display_data"
    }
   ],
   "source": [
    "# visualize the line of best fit from OLS linear model\n",
    "plt.scatter(df.total_bill, df.tip)\n",
    "plt.plot(df.total_bill, df.yhat)\n",
    "plt.xlabel('x = total_bill')\n",
    "plt.ylabel('y = tip')\n",
    "plt.title('OLS linear model');"
   ]
  },
  {
   "cell_type": "code",
   "execution_count": 17,
   "id": "03f45163-bf74-4199-8f03-74b7c993ab2b",
   "metadata": {},
   "outputs": [],
   "source": [
    "# make function\n",
    "def plot_model(x, y, yhat):\n",
    "    plt.scatter(x, y)\n",
    "    plt.plot(x, yhat)\n",
    "    plt.xlabel('x')\n",
    "    plt.ylabel('y')\n",
    "    plt.title('Linear Model');"
   ]
  },
  {
   "cell_type": "code",
   "execution_count": 18,
   "id": "096ea005-c8a1-4817-995f-9b7b1d0a7f95",
   "metadata": {},
   "outputs": [
    {
     "data": {
      "image/png": "[encoded data removed]",
      "text/plain": [
       "<Figure size 432x288 with 1 Axes>"
      ]
     },
     "metadata": {
      "needs_background": "light"
     },
     "output_type": "display_data"
    }
   ],
   "source": [
    "plot_model(df.total_bill, df.tip, df.yhat)"
   ]
  },
  {
   "cell_type": "markdown",
   "id": "2e027dba-db1f-4a79-800e-7c4b7e53e68d",
   "metadata": {},
   "source": [
    "## 3."
   ]
  },
  {
   "cell_type": "markdown",
   "id": "63b873ca-980b-428e-b029-cee0d557c270",
   "metadata": {},
   "source": [
    "Plot the residuals for the linear regression model that you made."
   ]
  },
  {
   "cell_type": "code",
   "execution_count": 19,
   "id": "eda6cb92-5116-4ffa-b639-25e4d873b95d",
   "metadata": {},
   "outputs": [
    {
     "data": {
      "text/html": [
       "<div>\n",
       "<style scoped>\n",
       "    .dataframe tbody tr th:only-of-type {\n",
       "        vertical-align: middle;\n",
       "    }\n",
       "\n",
       "    .dataframe tbody tr th {\n",
       "        vertical-align: top;\n",
       "    }\n",
       "\n",
       "    .dataframe thead th {\n",
       "        text-align: right;\n",
       "    }\n",
       "</style>\n",
       "<table border=\"1\" class=\"dataframe\">\n",
       "  <thead>\n",
       "    <tr style=\"text-align: right;\">\n",
       "      <th></th>\n",
       "      <th>total_bill</th>\n",
       "      <th>tip</th>\n",
       "      <th>sex</th>\n",
       "      <th>smoker</th>\n",
       "      <th>day</th>\n",
       "      <th>time</th>\n",
       "      <th>size</th>\n",
       "      <th>baseline</th>\n",
       "      <th>yhat</th>\n",
       "      <th>residual</th>\n",
       "      <th>baseline_residual</th>\n",
       "    </tr>\n",
       "  </thead>\n",
       "  <tbody>\n",
       "    <tr>\n",
       "      <th>1</th>\n",
       "      <td>16.99</td>\n",
       "      <td>1.01</td>\n",
       "      <td>Female</td>\n",
       "      <td>No</td>\n",
       "      <td>Sun</td>\n",
       "      <td>Dinner</td>\n",
       "      <td>2</td>\n",
       "      <td>2.998279</td>\n",
       "      <td>2.704636</td>\n",
       "      <td>-1.694636</td>\n",
       "      <td>-1.988279</td>\n",
       "    </tr>\n",
       "    <tr>\n",
       "      <th>2</th>\n",
       "      <td>10.34</td>\n",
       "      <td>1.66</td>\n",
       "      <td>Male</td>\n",
       "      <td>No</td>\n",
       "      <td>Sun</td>\n",
       "      <td>Dinner</td>\n",
       "      <td>3</td>\n",
       "      <td>2.998279</td>\n",
       "      <td>2.006223</td>\n",
       "      <td>-0.346223</td>\n",
       "      <td>-1.338279</td>\n",
       "    </tr>\n",
       "    <tr>\n",
       "      <th>3</th>\n",
       "      <td>21.01</td>\n",
       "      <td>3.50</td>\n",
       "      <td>Male</td>\n",
       "      <td>No</td>\n",
       "      <td>Sun</td>\n",
       "      <td>Dinner</td>\n",
       "      <td>3</td>\n",
       "      <td>2.998279</td>\n",
       "      <td>3.126835</td>\n",
       "      <td>0.373165</td>\n",
       "      <td>0.501721</td>\n",
       "    </tr>\n",
       "    <tr>\n",
       "      <th>4</th>\n",
       "      <td>23.68</td>\n",
       "      <td>3.31</td>\n",
       "      <td>Male</td>\n",
       "      <td>No</td>\n",
       "      <td>Sun</td>\n",
       "      <td>Dinner</td>\n",
       "      <td>2</td>\n",
       "      <td>2.998279</td>\n",
       "      <td>3.407250</td>\n",
       "      <td>-0.097250</td>\n",
       "      <td>0.311721</td>\n",
       "    </tr>\n",
       "    <tr>\n",
       "      <th>5</th>\n",
       "      <td>24.59</td>\n",
       "      <td>3.61</td>\n",
       "      <td>Female</td>\n",
       "      <td>No</td>\n",
       "      <td>Sun</td>\n",
       "      <td>Dinner</td>\n",
       "      <td>4</td>\n",
       "      <td>2.998279</td>\n",
       "      <td>3.502822</td>\n",
       "      <td>0.107178</td>\n",
       "      <td>0.611721</td>\n",
       "    </tr>\n",
       "  </tbody>\n",
       "</table>\n",
       "</div>"
      ],
      "text/plain": [
       "   total_bill   tip     sex smoker  day    time  size  baseline      yhat  \\\n",
       "1       16.99  1.01  Female     No  Sun  Dinner     2  2.998279  2.704636   \n",
       "2       10.34  1.66    Male     No  Sun  Dinner     3  2.998279  2.006223   \n",
       "3       21.01  3.50    Male     No  Sun  Dinner     3  2.998279  3.126835   \n",
       "4       23.68  3.31    Male     No  Sun  Dinner     2  2.998279  3.407250   \n",
       "5       24.59  3.61  Female     No  Sun  Dinner     4  2.998279  3.502822   \n",
       "\n",
       "   residual  baseline_residual  \n",
       "1 -1.694636          -1.988279  \n",
       "2 -0.346223          -1.338279  \n",
       "3  0.373165           0.501721  \n",
       "4 -0.097250           0.311721  \n",
       "5  0.107178           0.611721  "
      ]
     },
     "execution_count": 19,
     "metadata": {},
     "output_type": "execute_result"
    }
   ],
   "source": [
    "# residual = actual - predicted\n",
    "df['residual'] = df.tip - df.yhat\n",
    "df['baseline_residual'] = df.tip - df.baseline\n",
    "df.head()"
   ]
  },
  {
   "cell_type": "code",
   "execution_count": 20,
   "id": "359db57d-2d18-4ed2-8bee-c04e7a5a690f",
   "metadata": {},
   "outputs": [
    {
     "data": {
      "image/png": "[encoded data removed]",
      "text/plain": [
       "<Figure size 792x360 with 2 Axes>"
      ]
     },
     "metadata": {
      "needs_background": "light"
     },
     "output_type": "display_data"
    }
   ],
   "source": [
    "# residual plots (x vs residual)\n",
    "\n",
    "plt.figure(figsize = (11,5))\n",
    "\n",
    "plt.subplot(121)\n",
    "plt.scatter(df.total_bill, df.baseline_residual)\n",
    "plt.axhline(y = 0, ls = ':')\n",
    "plt.xlabel('total_bill')\n",
    "plt.ylabel('Residual')\n",
    "plt.title('Baseline Residuals')\n",
    "\n",
    "plt.subplot(122)\n",
    "plt.scatter(df.total_bill, df.residual)\n",
    "plt.axhline(y = 0, ls = ':')\n",
    "plt.xlabel('total_bill')\n",
    "plt.ylabel('Residual')\n",
    "plt.title('OLS model residuals');"
   ]
  },
  {
   "cell_type": "markdown",
   "id": "901c0c01-3d0b-4710-9b88-7518edaac687",
   "metadata": {},
   "source": [
    "**Baseline residuals seem to have some positive correlation to `total_bill`, that is eliminated for model residuals for the most part**"
   ]
  },
  {
   "cell_type": "markdown",
   "id": "7d3e8b14-f936-475f-8959-e38d63249cef",
   "metadata": {},
   "source": [
    "## 4. & 5."
   ]
  },
  {
   "cell_type": "markdown",
   "id": "2b48937c-cf25-44d9-8065-a646b59d84b8",
   "metadata": {},
   "source": [
    "For your model, calculate the:\n",
    "- [x] sum of squared errors\n",
    "- [x] mean squared error\n",
    "- [x] root mean squared error\n",
    "- [x] total sum of squares\n",
    "- [x] explained sum of squares"
   ]
  },
  {
   "cell_type": "markdown",
   "id": "1765161f-3070-4178-a673-c85730ba7c91",
   "metadata": {},
   "source": [
    "For your baseline model (i.e. a model that always predicts the average tip amount), calculate the:\n",
    "- [x] sum of squared errors\n",
    "- [x] mean squared error\n",
    "- [x] root mean squared error"
   ]
  },
  {
   "cell_type": "code",
   "execution_count": 21,
   "id": "e780b89e-35db-4b06-9cec-61bf6de06478",
   "metadata": {},
   "outputs": [
    {
     "data": {
      "text/html": [
       "<div>\n",
       "<style scoped>\n",
       "    .dataframe tbody tr th:only-of-type {\n",
       "        vertical-align: middle;\n",
       "    }\n",
       "\n",
       "    .dataframe tbody tr th {\n",
       "        vertical-align: top;\n",
       "    }\n",
       "\n",
       "    .dataframe thead th {\n",
       "        text-align: right;\n",
       "    }\n",
       "</style>\n",
       "<table border=\"1\" class=\"dataframe\">\n",
       "  <thead>\n",
       "    <tr style=\"text-align: right;\">\n",
       "      <th></th>\n",
       "      <th>total_bill</th>\n",
       "      <th>tip</th>\n",
       "      <th>sex</th>\n",
       "      <th>smoker</th>\n",
       "      <th>day</th>\n",
       "      <th>time</th>\n",
       "      <th>size</th>\n",
       "      <th>baseline</th>\n",
       "      <th>yhat</th>\n",
       "      <th>residual</th>\n",
       "      <th>baseline_residual</th>\n",
       "      <th>residual^2</th>\n",
       "      <th>baseline_residual^2</th>\n",
       "    </tr>\n",
       "  </thead>\n",
       "  <tbody>\n",
       "    <tr>\n",
       "      <th>1</th>\n",
       "      <td>16.99</td>\n",
       "      <td>1.01</td>\n",
       "      <td>Female</td>\n",
       "      <td>No</td>\n",
       "      <td>Sun</td>\n",
       "      <td>Dinner</td>\n",
       "      <td>2</td>\n",
       "      <td>2.998279</td>\n",
       "      <td>2.704636</td>\n",
       "      <td>-1.694636</td>\n",
       "      <td>-1.988279</td>\n",
       "      <td>2.871792</td>\n",
       "      <td>3.953252</td>\n",
       "    </tr>\n",
       "    <tr>\n",
       "      <th>2</th>\n",
       "      <td>10.34</td>\n",
       "      <td>1.66</td>\n",
       "      <td>Male</td>\n",
       "      <td>No</td>\n",
       "      <td>Sun</td>\n",
       "      <td>Dinner</td>\n",
       "      <td>3</td>\n",
       "      <td>2.998279</td>\n",
       "      <td>2.006223</td>\n",
       "      <td>-0.346223</td>\n",
       "      <td>-1.338279</td>\n",
       "      <td>0.119870</td>\n",
       "      <td>1.790990</td>\n",
       "    </tr>\n",
       "    <tr>\n",
       "      <th>3</th>\n",
       "      <td>21.01</td>\n",
       "      <td>3.50</td>\n",
       "      <td>Male</td>\n",
       "      <td>No</td>\n",
       "      <td>Sun</td>\n",
       "      <td>Dinner</td>\n",
       "      <td>3</td>\n",
       "      <td>2.998279</td>\n",
       "      <td>3.126835</td>\n",
       "      <td>0.373165</td>\n",
       "      <td>0.501721</td>\n",
       "      <td>0.139252</td>\n",
       "      <td>0.251724</td>\n",
       "    </tr>\n",
       "    <tr>\n",
       "      <th>4</th>\n",
       "      <td>23.68</td>\n",
       "      <td>3.31</td>\n",
       "      <td>Male</td>\n",
       "      <td>No</td>\n",
       "      <td>Sun</td>\n",
       "      <td>Dinner</td>\n",
       "      <td>2</td>\n",
       "      <td>2.998279</td>\n",
       "      <td>3.407250</td>\n",
       "      <td>-0.097250</td>\n",
       "      <td>0.311721</td>\n",
       "      <td>0.009458</td>\n",
       "      <td>0.097170</td>\n",
       "    </tr>\n",
       "    <tr>\n",
       "      <th>5</th>\n",
       "      <td>24.59</td>\n",
       "      <td>3.61</td>\n",
       "      <td>Female</td>\n",
       "      <td>No</td>\n",
       "      <td>Sun</td>\n",
       "      <td>Dinner</td>\n",
       "      <td>4</td>\n",
       "      <td>2.998279</td>\n",
       "      <td>3.502822</td>\n",
       "      <td>0.107178</td>\n",
       "      <td>0.611721</td>\n",
       "      <td>0.011487</td>\n",
       "      <td>0.374203</td>\n",
       "    </tr>\n",
       "  </tbody>\n",
       "</table>\n",
       "</div>"
      ],
      "text/plain": [
       "   total_bill   tip     sex smoker  day    time  size  baseline      yhat  \\\n",
       "1       16.99  1.01  Female     No  Sun  Dinner     2  2.998279  2.704636   \n",
       "2       10.34  1.66    Male     No  Sun  Dinner     3  2.998279  2.006223   \n",
       "3       21.01  3.50    Male     No  Sun  Dinner     3  2.998279  3.126835   \n",
       "4       23.68  3.31    Male     No  Sun  Dinner     2  2.998279  3.407250   \n",
       "5       24.59  3.61  Female     No  Sun  Dinner     4  2.998279  3.502822   \n",
       "\n",
       "   residual  baseline_residual  residual^2  baseline_residual^2  \n",
       "1 -1.694636          -1.988279    2.871792             3.953252  \n",
       "2 -0.346223          -1.338279    0.119870             1.790990  \n",
       "3  0.373165           0.501721    0.139252             0.251724  \n",
       "4 -0.097250           0.311721    0.009458             0.097170  \n",
       "5  0.107178           0.611721    0.011487             0.374203  "
      ]
     },
     "execution_count": 21,
     "metadata": {},
     "output_type": "execute_result"
    }
   ],
   "source": [
    "# first calculate the square of residuals\n",
    "\n",
    "df['residual^2'] = df.residual**2\n",
    "df['baseline_residual^2'] = df.baseline_residual**2\n",
    "\n",
    "df.head()"
   ]
  },
  {
   "cell_type": "code",
   "execution_count": 22,
   "id": "8fbc807a-b7cc-495c-a0fb-a41ea4f3c2f1",
   "metadata": {},
   "outputs": [
    {
     "name": "stdout",
     "output_type": "stream",
     "text": [
      "SSE = 252.79\n",
      "SSE Baseline = 465.21\n",
      "MSE = 1.04\n",
      "MSE baseline = 1.91\n",
      "RMSE = 1.02\n",
      "RMSE baseline = 1.38\n",
      "TSS = SSE Baseline = 465.21\n",
      "ESS = TSS - SSE = 212.42\n"
     ]
    }
   ],
   "source": [
    "# Sum of Squared Errors (SSE)\n",
    "SSE = df['residual^2'].sum()\n",
    "SSE_baseline = df['baseline_residual^2'].sum()\n",
    "\n",
    "print(f'SSE = {SSE:.2f}')\n",
    "print(f'SSE Baseline = {SSE_baseline:.2f}')\n",
    "\n",
    "# Mean Squared Error (MSE)\n",
    "MSE = SSE/len(df)\n",
    "MSE_baseline = SSE_baseline/len(df)\n",
    "\n",
    "print(f'MSE = {MSE:.2f}')\n",
    "print(f'MSE baseline = {MSE_baseline:.2f}')\n",
    "\n",
    "# Root Mean Squared Error (RMSE)\n",
    "from math import sqrt\n",
    "\n",
    "RMSE = sqrt(MSE)\n",
    "RMSE_baseline =  sqrt(MSE_baseline)\n",
    "\n",
    "print(f'RMSE = {RMSE:.2f}')\n",
    "print(f'RMSE baseline = {RMSE_baseline:.2f}')\n",
    "\n",
    "# total sum of squares (TSS)\n",
    "# Total Sum of Squares = SSE for baseline\n",
    "TSS = SSE_baseline = df['baseline_residual^2'].sum()\n",
    "\n",
    "print(f'TSS = SSE Baseline = {TSS:.2f}')\n",
    "\n",
    "# explained sum of squares (ESS)\n",
    "# Sum of squared error for the regression line (Unexplained error) is calculated above as SSE\n",
    "# ESS - Explained sum of squares ('Explained Error')\n",
    "ESS = TSS - SSE\n",
    "\n",
    "print(f'ESS = TSS - SSE = {ESS:.2f}')"
   ]
  },
  {
   "cell_type": "code",
   "execution_count": 23,
   "id": "c8c3aea1-2b9f-4223-a2d9-698fd3353594",
   "metadata": {},
   "outputs": [
    {
     "name": "stdout",
     "output_type": "stream",
     "text": [
      "MSE using sklearn: 1.04\n",
      "MSE of baseline using sklearn: 1.91\n",
      "SSE using sklearn: 252.79\n",
      "SSE of baseline using sklearn: 465.21\n",
      "RMSE using sklearn: 1.02\n",
      "RMSE of baseline using sklearn: 1.38\n"
     ]
    }
   ],
   "source": [
    "# calculate the easy way using sklearn\n",
    "MSE2 = mean_squared_error(df.tip, df.yhat)\n",
    "MSE2_baseline = mean_squared_error(df.tip, df.baseline)\n",
    "\n",
    "print(f'MSE using sklearn: {MSE2:.2f}')\n",
    "print(f'MSE of baseline using sklearn: {MSE2_baseline:.2f}')\n",
    "\n",
    "# calculate SSE the easy way using sklearn\n",
    "SSE2 = MSE2 * len(df)\n",
    "SSE2_baseline = MSE2_baseline * len(df)\n",
    "\n",
    "print(f'SSE using sklearn: {SSE2:.2f}')\n",
    "print(f'SSE of baseline using sklearn: {SSE2_baseline:.2f}')\n",
    "\n",
    "# RMSE using sklearn\n",
    "# calculate RMSE: either take square root of MSE or use sklearn (kwarg 'squared = False')\n",
    "\n",
    "RMSE2 = mean_squared_error(df.tip, df.yhat, squared = False)\n",
    "RMSE2_baseline = mean_squared_error(df.tip, df.baseline, squared=False)\n",
    "\n",
    "print(f'RMSE using sklearn: {RMSE2:.2f}')\n",
    "print(f'RMSE of baseline using sklearn: {RMSE2_baseline:.2f}')  "
   ]
  },
  {
   "cell_type": "markdown",
   "id": "822b1f82-8676-44ea-b36d-23943cb336d6",
   "metadata": {},
   "source": [
    "## 6."
   ]
  },
  {
   "cell_type": "markdown",
   "id": "127f9fae-9f28-40d2-8ae0-f617c63919e3",
   "metadata": {},
   "source": [
    "Write python code that compares the sum of squared errors for your model against the sum of squared errors for the baseline model and outputs whether or not your model performs better than the baseline model."
   ]
  },
  {
   "cell_type": "code",
   "execution_count": 24,
   "id": "1767507d-0ff3-442d-afcb-b159421ec4b5",
   "metadata": {},
   "outputs": [
    {
     "name": "stdout",
     "output_type": "stream",
     "text": [
      "Model performs better than baseline, 252.79 < 465.21.\n"
     ]
    }
   ],
   "source": [
    "if SSE < SSE_baseline:\n",
    "    print(f'Model performs better than baseline, {SSE:.2f} < {SSE_baseline:.2f}.')\n",
    "else:\n",
    "    print(f'Model does not perform better than baseline, {SSE:.2f} > {SSE_baseline:.2f}.')"
   ]
  },
  {
   "cell_type": "markdown",
   "id": "d413ef4f-2019-4d02-8a2b-0231c9a29eb8",
   "metadata": {},
   "source": [
    "## 7."
   ]
  },
  {
   "cell_type": "markdown",
   "id": "249322d5-fb4b-47ea-8b3d-2943ba719a3c",
   "metadata": {},
   "source": [
    "What is the amount of variance explained in your model?"
   ]
  },
  {
   "cell_type": "code",
   "execution_count": 25,
   "id": "1ebdad6d-c571-4cad-8dbd-4f3d9fa4ecb4",
   "metadata": {},
   "outputs": [
    {
     "name": "stdout",
     "output_type": "stream",
     "text": [
      "R^2 = ESS / TSS = 0.46\n"
     ]
    }
   ],
   "source": [
    "# complete the final step and calculate the R^2 value for the model\n",
    "R2 = ESS/TSS\n",
    "print(f'R^2 = ESS / TSS = {R2:.2f}')"
   ]
  },
  {
   "cell_type": "code",
   "execution_count": 26,
   "id": "4bc25552-ef18-4d52-a313-77e09a8d31cf",
   "metadata": {},
   "outputs": [
    {
     "data": {
      "text/plain": [
       "0.45661658635167657"
      ]
     },
     "execution_count": 26,
     "metadata": {},
     "output_type": "execute_result"
    }
   ],
   "source": [
    "# validate using sklearn function\n",
    "from sklearn.metrics import r2_score\n",
    "\n",
    "r2_score(df.tip, df.yhat)"
   ]
  },
  {
   "cell_type": "markdown",
   "id": "b4d79be2-ce81-48e5-93e2-ead11ac699cd",
   "metadata": {},
   "source": [
    "## 8."
   ]
  },
  {
   "cell_type": "markdown",
   "id": "4759e72e-aa51-4042-b76d-8ae63b652264",
   "metadata": {},
   "source": [
    "Is your model better than the baseline model?"
   ]
  },
  {
   "cell_type": "markdown",
   "id": "be6bf08c-fa10-4e3e-a51d-d22525588319",
   "metadata": {},
   "source": [
    "**Yes, since SSE, MSE, and RMSE are all lower for model than baseline, it is better. Also since R^2 is > 0, we can conclude that it is better.** "
   ]
  },
  {
   "cell_type": "markdown",
   "id": "9f26b57e-1e74-41a3-9be5-91c5e2eed3d9",
   "metadata": {},
   "source": [
    "## 9."
   ]
  },
  {
   "cell_type": "markdown",
   "id": "cca8ba9e-dcbe-4d33-949c-8c162afa6c29",
   "metadata": {},
   "source": [
    "Create a file named `evaluate.py` that contains the following functions.\n",
    "\n",
    "- `plot_residuals(y, yhat)`: creates a residual plot\n",
    "- `regression_errors(y, yhat)`: returns the following values:\n",
    "    - sum of squared errors (SSE)\n",
    "    - explained sum of squares (ESS)\n",
    "    - total sum of squares (TSS)\n",
    "    - mean squared error (MSE)\n",
    "    - root mean squared error (RMSE)\n",
    "- `baseline_mean_errors(y)`: computes the SSE, MSE, and RMSE for the baseline model\n",
    "- `better_than_baseline(y, yhat)`: returns true if your model performs better than the baseline, otherwise false"
   ]
  },
  {
   "cell_type": "code",
   "execution_count": 27,
   "id": "a90096a1-5189-4230-992f-b15447cf59b0",
   "metadata": {},
   "outputs": [],
   "source": [
    "# I think for this one, we would need the independent variable in order to create the residual plot\n",
    "# I will also add the baseline so that you can see the residual plots side-by-side for comparison\n",
    "def plot_residuals(x, y, yhat):\n",
    "    \n",
    "    plt.figure(figsize = (11,5))\n",
    "\n",
    "    plt.subplot(121)\n",
    "    plt.scatter(x, y - y.mean())\n",
    "    plt.axhline(y = 0, ls = ':')\n",
    "    plt.xlabel('x')\n",
    "    plt.ylabel('Residual')\n",
    "    plt.title('Baseline Residuals')\n",
    "    \n",
    "    plt.subplot(122)\n",
    "    plt.scatter(x, y - yhat)\n",
    "    plt.axhline(y = 0, ls = ':')\n",
    "    plt.xlabel('x')\n",
    "    plt.ylabel('Residual')\n",
    "    plt.title('Model residuals');"
   ]
  },
  {
   "cell_type": "code",
   "execution_count": 28,
   "id": "724aae1d-e571-4c6f-8ff3-ca1cf8011ffa",
   "metadata": {},
   "outputs": [
    {
     "data": {
      "image/png": "[encoded data removed]",
      "text/plain": [
       "<Figure size 792x360 with 2 Axes>"
      ]
     },
     "metadata": {
      "needs_background": "light"
     },
     "output_type": "display_data"
    }
   ],
   "source": [
    "plot_residuals(df.total_bill, df.tip, df.yhat)"
   ]
  },
  {
   "cell_type": "markdown",
   "id": "8df8d671-cc03-4c7a-9403-b9113233fef6",
   "metadata": {},
   "source": [
    "- `regression_errors(y, yhat)`: returns the following values:\n",
    "    - sum of squared errors (SSE)\n",
    "    - explained sum of squares (ESS)\n",
    "    - total sum of squares (TSS)\n",
    "    - mean squared error (MSE)\n",
    "    - root mean squared error (RMSE)"
   ]
  },
  {
   "cell_type": "code",
   "execution_count": 29,
   "id": "fdde3182-c42f-4561-a1a2-8c6c24034473",
   "metadata": {},
   "outputs": [],
   "source": [
    "def regression_errors_all(y, yhat):\n",
    "    SSE = ((y - yhat)**2).sum()\n",
    "    MSE = SSE / len(y)\n",
    "    RMSE = MSE ** (1/2)\n",
    "    ESS = ((yhat - y.mean())**2).sum()\n",
    "    TSS = SSE + ESS\n",
    "    R2 = ESS / TSS\n",
    "    return SSE, MSE, RMSE, ESS, TSS, R2"
   ]
  },
  {
   "cell_type": "code",
   "execution_count": 30,
   "id": "309e1d88-81da-4281-aa4b-609cd19d9539",
   "metadata": {},
   "outputs": [],
   "source": [
    "# more useful version\n",
    "def regression_errors(y, yhat):\n",
    "    SSE = ((y - yhat)**2).sum()\n",
    "    MSE = SSE / len(y)\n",
    "    RMSE = MSE ** (1/2)\n",
    "    ESS = ((yhat - y.mean())**2).sum()\n",
    "    TSS = SSE + ESS\n",
    "    R2 = ESS / TSS\n",
    "    return RMSE, R2"
   ]
  },
  {
   "cell_type": "code",
   "execution_count": 31,
   "id": "18fda9ce-8c42-4d9c-8926-ea240ab34f48",
   "metadata": {},
   "outputs": [
    {
     "name": "stdout",
     "output_type": "stream",
     "text": [
      "SSE = 252.79\n",
      "MSE = 1.04\n",
      "RMSE = 1.02\n",
      "TSS = 465.21\n",
      "ESS = 212.42\n",
      "R^2 = 0.46\n"
     ]
    }
   ],
   "source": [
    "SSE, MSE, RMSE, ESS, TSS, R2 = regression_errors_all(df.tip, df.yhat)\n",
    "\n",
    "print(f'SSE = {SSE:.2f}')\n",
    "print(f'MSE = {MSE:.2f}')\n",
    "print(f'RMSE = {RMSE:.2f}')\n",
    "print(f'TSS = {TSS:.2f}')\n",
    "print(f'ESS = {ESS:.2f}')\n",
    "print(f'R^2 = {R2:.2f}')"
   ]
  },
  {
   "cell_type": "code",
   "execution_count": 32,
   "id": "7b93974c-eea0-49bf-8b1a-d0686c01e5e4",
   "metadata": {},
   "outputs": [
    {
     "name": "stdout",
     "output_type": "stream",
     "text": [
      "RMSE = 1.02\n",
      "R^2 = 0.46\n"
     ]
    }
   ],
   "source": [
    "RMSE, R2 = regression_errors(df.tip, df.yhat)\n",
    "\n",
    "print(f'RMSE = {RMSE:.2f}')\n",
    "print(f'R^2 = {R2:.2f}')"
   ]
  },
  {
   "cell_type": "markdown",
   "id": "7f6c2dc4-5fc9-46a0-abf7-58d3de1788e9",
   "metadata": {},
   "source": [
    "- `baseline_mean_errors(y)`: computes the SSE, MSE, and RMSE for the baseline model"
   ]
  },
  {
   "cell_type": "code",
   "execution_count": 33,
   "id": "5c71a890-da32-4e39-a797-3797bf9e9906",
   "metadata": {},
   "outputs": [],
   "source": [
    "def baseline_mean_errors(y):\n",
    "    SSE = ((y - y.mean())**2).sum()\n",
    "    MSE = SSE / len(y)\n",
    "    RMSE = MSE ** (1/2)\n",
    "    return SSE, MSE, RMSE"
   ]
  },
  {
   "cell_type": "code",
   "execution_count": 34,
   "id": "fb2ef233-8087-4bfe-940a-df907e8473cc",
   "metadata": {},
   "outputs": [
    {
     "name": "stdout",
     "output_type": "stream",
     "text": [
      "SSE = 252.79\n",
      "MSE = 1.04\n",
      "RMSE = 1.02\n"
     ]
    }
   ],
   "source": [
    "baseline_mean_errors(df.tip)\n",
    "print(f'SSE = {SSE:.2f}')\n",
    "print(f'MSE = {MSE:.2f}')\n",
    "print(f'RMSE = {RMSE:.2f}')"
   ]
  },
  {
   "cell_type": "markdown",
   "id": "15ad6dca-3862-420e-b069-c0b22f36a996",
   "metadata": {},
   "source": [
    "- `better_than_baseline(y, yhat)`: returns true if your model performs better than the baseline, otherwise false"
   ]
  },
  {
   "cell_type": "code",
   "execution_count": 35,
   "id": "5dee26e6-3edb-41c4-b6bd-20812f830dbd",
   "metadata": {},
   "outputs": [],
   "source": [
    "def better_than_baseline(y, yhat):\n",
    "    SSE = ((y - yhat)**2).sum()\n",
    "    SSE_baseline = ((y - y.mean())**2).sum()\n",
    "    if SSE < SSE_baseline:\n",
    "        return True\n",
    "    else:\n",
    "        return False"
   ]
  },
  {
   "cell_type": "code",
   "execution_count": 36,
   "id": "5c146e95-a8e0-4381-9e27-7a4b38f2eed8",
   "metadata": {},
   "outputs": [
    {
     "data": {
      "text/plain": [
       "False"
      ]
     },
     "execution_count": 36,
     "metadata": {},
     "output_type": "execute_result"
    }
   ],
   "source": [
    "better_than_baseline(df.yhat, df.tip)"
   ]
  },
  {
   "cell_type": "markdown",
   "id": "fb2f7687-af95-4052-8f17-31c20b46475a",
   "metadata": {},
   "source": [
    "## 10."
   ]
  },
  {
   "cell_type": "markdown",
   "id": "37c8089b-8853-4d71-afbb-8640e1bd9af3",
   "metadata": {},
   "source": [
    "Load the `mpg` dataset and fit a model that predicts `highway mileage` based on `engine displacement`. Take a look at all the regression evaluation metrics, and determine whether this model is better than the baseline model. Use the functions from your `evaluate.py` to help accomplish this."
   ]
  },
  {
   "cell_type": "code",
   "execution_count": 37,
   "id": "f87b8961-10e6-4fcb-9c6f-a53ad14efc7f",
   "metadata": {},
   "outputs": [],
   "source": [
    "df = data('mpg')"
   ]
  },
  {
   "cell_type": "code",
   "execution_count": 38,
   "id": "80d9260c-7860-4f38-a08d-6b4d60ef8d46",
   "metadata": {},
   "outputs": [
    {
     "data": {
      "text/html": [
       "<div>\n",
       "<style scoped>\n",
       "    .dataframe tbody tr th:only-of-type {\n",
       "        vertical-align: middle;\n",
       "    }\n",
       "\n",
       "    .dataframe tbody tr th {\n",
       "        vertical-align: top;\n",
       "    }\n",
       "\n",
       "    .dataframe thead th {\n",
       "        text-align: right;\n",
       "    }\n",
       "</style>\n",
       "<table border=\"1\" class=\"dataframe\">\n",
       "  <thead>\n",
       "    <tr style=\"text-align: right;\">\n",
       "      <th></th>\n",
       "      <th>manufacturer</th>\n",
       "      <th>model</th>\n",
       "      <th>displ</th>\n",
       "      <th>year</th>\n",
       "      <th>cyl</th>\n",
       "      <th>trans</th>\n",
       "      <th>drv</th>\n",
       "      <th>cty</th>\n",
       "      <th>hwy</th>\n",
       "      <th>fl</th>\n",
       "      <th>class</th>\n",
       "    </tr>\n",
       "  </thead>\n",
       "  <tbody>\n",
       "    <tr>\n",
       "      <th>1</th>\n",
       "      <td>audi</td>\n",
       "      <td>a4</td>\n",
       "      <td>1.8</td>\n",
       "      <td>1999</td>\n",
       "      <td>4</td>\n",
       "      <td>auto(l5)</td>\n",
       "      <td>f</td>\n",
       "      <td>18</td>\n",
       "      <td>29</td>\n",
       "      <td>p</td>\n",
       "      <td>compact</td>\n",
       "    </tr>\n",
       "    <tr>\n",
       "      <th>2</th>\n",
       "      <td>audi</td>\n",
       "      <td>a4</td>\n",
       "      <td>1.8</td>\n",
       "      <td>1999</td>\n",
       "      <td>4</td>\n",
       "      <td>manual(m5)</td>\n",
       "      <td>f</td>\n",
       "      <td>21</td>\n",
       "      <td>29</td>\n",
       "      <td>p</td>\n",
       "      <td>compact</td>\n",
       "    </tr>\n",
       "    <tr>\n",
       "      <th>3</th>\n",
       "      <td>audi</td>\n",
       "      <td>a4</td>\n",
       "      <td>2.0</td>\n",
       "      <td>2008</td>\n",
       "      <td>4</td>\n",
       "      <td>manual(m6)</td>\n",
       "      <td>f</td>\n",
       "      <td>20</td>\n",
       "      <td>31</td>\n",
       "      <td>p</td>\n",
       "      <td>compact</td>\n",
       "    </tr>\n",
       "    <tr>\n",
       "      <th>4</th>\n",
       "      <td>audi</td>\n",
       "      <td>a4</td>\n",
       "      <td>2.0</td>\n",
       "      <td>2008</td>\n",
       "      <td>4</td>\n",
       "      <td>auto(av)</td>\n",
       "      <td>f</td>\n",
       "      <td>21</td>\n",
       "      <td>30</td>\n",
       "      <td>p</td>\n",
       "      <td>compact</td>\n",
       "    </tr>\n",
       "    <tr>\n",
       "      <th>5</th>\n",
       "      <td>audi</td>\n",
       "      <td>a4</td>\n",
       "      <td>2.8</td>\n",
       "      <td>1999</td>\n",
       "      <td>6</td>\n",
       "      <td>auto(l5)</td>\n",
       "      <td>f</td>\n",
       "      <td>16</td>\n",
       "      <td>26</td>\n",
       "      <td>p</td>\n",
       "      <td>compact</td>\n",
       "    </tr>\n",
       "  </tbody>\n",
       "</table>\n",
       "</div>"
      ],
      "text/plain": [
       "  manufacturer model  displ  year  cyl       trans drv  cty  hwy fl    class\n",
       "1         audi    a4    1.8  1999    4    auto(l5)   f   18   29  p  compact\n",
       "2         audi    a4    1.8  1999    4  manual(m5)   f   21   29  p  compact\n",
       "3         audi    a4    2.0  2008    4  manual(m6)   f   20   31  p  compact\n",
       "4         audi    a4    2.0  2008    4    auto(av)   f   21   30  p  compact\n",
       "5         audi    a4    2.8  1999    6    auto(l5)   f   16   26  p  compact"
      ]
     },
     "execution_count": 38,
     "metadata": {},
     "output_type": "execute_result"
    }
   ],
   "source": [
    "df.head()"
   ]
  },
  {
   "cell_type": "code",
   "execution_count": 39,
   "id": "9c2544fc-3dab-4125-af21-115ff823c7ab",
   "metadata": {},
   "outputs": [
    {
     "data": {
      "image/png": "[encoded data removed]",
      "text/plain": [
       "<Figure size 432x288 with 1 Axes>"
      ]
     },
     "metadata": {
      "needs_background": "light"
     },
     "output_type": "display_data"
    }
   ],
   "source": [
    "df.hwy.hist();"
   ]
  },
  {
   "cell_type": "code",
   "execution_count": 40,
   "id": "9177b802-75c0-47c7-91df-55fc70360dbb",
   "metadata": {},
   "outputs": [
    {
     "data": {
      "image/png": "[encoded data removed]",
      "text/plain": [
       "<Figure size 432x288 with 1 Axes>"
      ]
     },
     "metadata": {
      "needs_background": "light"
     },
     "output_type": "display_data"
    }
   ],
   "source": [
    "df.displ.hist();"
   ]
  },
  {
   "cell_type": "code",
   "execution_count": 41,
   "id": "775f7370-4b90-45d1-983f-28521ba20493",
   "metadata": {},
   "outputs": [],
   "source": [
    "# create the model\n",
    "lm = LinearRegression(normalize=True)"
   ]
  },
  {
   "cell_type": "code",
   "execution_count": 42,
   "id": "d2f3f73c-ba34-46c0-a055-32f0cb57b35c",
   "metadata": {},
   "outputs": [
    {
     "data": {
      "text/plain": [
       "LinearRegression(normalize=True)"
      ]
     },
     "execution_count": 42,
     "metadata": {},
     "output_type": "execute_result"
    }
   ],
   "source": [
    "# fit model\n",
    "lm.fit(df[['displ']], df.hwy)"
   ]
  },
  {
   "cell_type": "code",
   "execution_count": 43,
   "id": "67db73bb-e637-449f-92e2-bdfdeef69e8c",
   "metadata": {},
   "outputs": [],
   "source": [
    "# make prediction\n",
    "df['yhat'] = lm.predict(df[['displ']])"
   ]
  },
  {
   "cell_type": "code",
   "execution_count": 44,
   "id": "fd1cf3d3-f929-40bb-a417-f70da5a56016",
   "metadata": {},
   "outputs": [],
   "source": [
    "# use functions to evaluate model\n",
    "import evaluate as e"
   ]
  },
  {
   "cell_type": "code",
   "execution_count": 45,
   "id": "57a325c5-9b72-4264-b2c7-39b3a2eb9df1",
   "metadata": {},
   "outputs": [],
   "source": [
    "def plot_baseline_and_model(x, y, yhat):\n",
    "    \n",
    "    plt.figure(figsize = (11,5))\n",
    "\n",
    "    plt.subplot(121)\n",
    "    plt.scatter(x, y)\n",
    "    plt.axhline(y.mean(), ls = ':', color='black')\n",
    "    plt.xlabel('x')\n",
    "    plt.ylabel('y')\n",
    "    plt.title('Baseline Model');\n",
    "    \n",
    "    plt.subplot(122)\n",
    "    plt.scatter(x, y)\n",
    "    plt.plot(x, yhat, color='black')\n",
    "    plt.xlabel('x')\n",
    "    plt.ylabel('y')\n",
    "    plt.title('Linear Model');"
   ]
  },
  {
   "cell_type": "code",
   "execution_count": 46,
   "id": "06da4ac3-039b-4940-bdc1-a02cbd7d74df",
   "metadata": {},
   "outputs": [
    {
     "data": {
      "image/png": "[encoded data removed]",
      "text/plain": [
       "<Figure size 792x360 with 2 Axes>"
      ]
     },
     "metadata": {
      "needs_background": "light"
     },
     "output_type": "display_data"
    }
   ],
   "source": [
    "e.plot_baseline_and_model(df.displ, df.hwy, df.yhat)"
   ]
  },
  {
   "cell_type": "code",
   "execution_count": 47,
   "id": "a6d82859-593e-4540-9f13-a1b16dd0af2c",
   "metadata": {},
   "outputs": [
    {
     "data": {
      "image/png": "[encoded data removed]",
      "text/plain": [
       "<Figure size 792x360 with 2 Axes>"
      ]
     },
     "metadata": {
      "needs_background": "light"
     },
     "output_type": "display_data"
    }
   ],
   "source": [
    "# plot residuals using function\n",
    "e.plot_residuals(df.displ, df.hwy, df.yhat)"
   ]
  },
  {
   "cell_type": "code",
   "execution_count": 48,
   "id": "0c0511ae-994e-45a2-818b-2f74e0e5eeae",
   "metadata": {},
   "outputs": [
    {
     "name": "stdout",
     "output_type": "stream",
     "text": [
      "RMSE = 3.82\n",
      "R^2 = 0.59\n"
     ]
    }
   ],
   "source": [
    "# get important regression errors using function\n",
    "RMSE, R2 = e.regression_errors(df.hwy, df.yhat)\n",
    "print(f'RMSE = {RMSE:.2f}')\n",
    "print(f'R^2 = {R2:.2f}')"
   ]
  },
  {
   "cell_type": "code",
   "execution_count": 49,
   "id": "44aa9d38-9c0d-47cd-9c65-2a14ea30b048",
   "metadata": {},
   "outputs": [
    {
     "name": "stdout",
     "output_type": "stream",
     "text": [
      "SSE = 3413.83\n",
      "MSE = 14.59\n",
      "RMSE = 3.82\n",
      "TSS = 8261.66\n",
      "ESS = 4847.83\n",
      "R^2 = 0.59\n"
     ]
    }
   ],
   "source": [
    "# get all metrics discussed per instructions\n",
    "SSE, MSE, RMSE, ESS, TSS, R2 = e.regression_errors_all(df.hwy, df.yhat)\n",
    "print(f'SSE = {SSE:.2f}')\n",
    "print(f'MSE = {MSE:.2f}')\n",
    "print(f'RMSE = {RMSE:.2f}')\n",
    "print(f'TSS = {TSS:.2f}')\n",
    "print(f'ESS = {ESS:.2f}')\n",
    "print(f'R^2 = {R2:.2f}')"
   ]
  },
  {
   "cell_type": "code",
   "execution_count": 50,
   "id": "c822c06c-e8ff-4fb6-81f9-fb90d9fa6ca2",
   "metadata": {},
   "outputs": [
    {
     "name": "stdout",
     "output_type": "stream",
     "text": [
      "SSE = 8261.66\n",
      "MSE = 35.31\n",
      "RMSE = 5.94\n"
     ]
    }
   ],
   "source": [
    "# bet baseline mean errors\n",
    "SSE, MSE, RMSE = e.baseline_mean_errors(df.hwy)\n",
    "print(f'SSE = {SSE:.2f}')\n",
    "print(f'MSE = {MSE:.2f}')\n",
    "print(f'RMSE = {RMSE:.2f}')"
   ]
  },
  {
   "cell_type": "code",
   "execution_count": 51,
   "id": "782e4fd3-c34a-4ce9-94a1-f579935fdde3",
   "metadata": {},
   "outputs": [
    {
     "name": "stdout",
     "output_type": "stream",
     "text": [
      "Model performs better than baseline\n"
     ]
    }
   ],
   "source": [
    "# check if model outperforms baseline using function\n",
    "if e.better_than_baseline(df.hwy, df.yhat):\n",
    "    print(f'Model performs better than baseline')\n",
    "else:\n",
    "    print(f'Model does not perform better than baseline')\n"
   ]
  },
  {
   "cell_type": "markdown",
   "id": "5c1e6056-5645-4865-bc1f-84dbe8c5c74c",
   "metadata": {},
   "source": [
    "**Notes:**\n",
    "- I could go back through and write functions for metrics using sklearn istead of manual calculations, if desired"
   ]
  },
  {
   "cell_type": "code",
   "execution_count": null,
   "id": "aa3be945-a998-4b00-b4b0-257285e2921b",
   "metadata": {},
   "outputs": [],
   "source": []
  }
 ],
 "metadata": {
  "kernelspec": {
   "display_name": "Python 3",
   "language": "python",
   "name": "python3"
  },
  "language_info": {
   "codemirror_mode": {
    "name": "ipython",
    "version": 3
   },
   "file_extension": ".py",
   "mimetype": "text/x-python",
   "name": "python",
   "nbconvert_exporter": "python",
   "pygments_lexer": "ipython3",
   "version": "3.8.8"
  }
 },
 "nbformat": 4,
 "nbformat_minor": 5
}
