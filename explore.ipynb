{
 "cells": [
  {
   "cell_type": "code",
   "execution_count": 1,
   "id": "40143507-7d3d-4a93-9797-ae90fa3164db",
   "metadata": {},
   "outputs": [],
   "source": [
    "# standard imports\n",
    "import pandas as pd\n",
    "import numpy as np\n",
    "import seaborn as sns\n",
    "import matplotlib.pyplot as plt\n",
    "\n",
    "import sklearn\n",
    "from sklearn.model_selection import train_test_split\n",
    "\n",
    "# ignore warnings\n",
    "import warnings\n",
    "warnings.filterwarnings(\"ignore\")"
   ]
  },
  {
   "cell_type": "markdown",
   "id": "033d0e51-5c8d-4f8c-954a-ecb2f8bdef66",
   "metadata": {},
   "source": [
    "# Exploration Exercises I - Telco"
   ]
  },
  {
   "cell_type": "markdown",
   "id": "86ebc062-a473-42bd-8d28-d715d34999b3",
   "metadata": {},
   "source": [
    "Our Telco scenario continues:\n",
    "\n",
    "As a customer analyst for Telco, you want to know who has spent the most money with the company over their lifetime. You have monthly charges and tenure, so you think you will be able to use those two attributes as features to estimate total charges. You need to do this within an average of $5.00 per customer.\n",
    "\n",
    "In these exercises, you will run through the stages of exploration as you continue to work toward the above goal.\n",
    "\n",
    "Do your work in a notebook named `explore.ipynb`. In addition, you should create a file named `explore.py` that contains the following functions for exploring your variables (features & target)."
   ]
  },
  {
   "cell_type": "markdown",
   "id": "2b71e239-8a3b-4f6c-a2b1-b9610bd0771e",
   "metadata": {},
   "source": [
    "## 1."
   ]
  },
  {
   "cell_type": "markdown",
   "id": "a098ab00-5355-4582-a68b-5fc2251ed5cb",
   "metadata": {},
   "source": [
    "Make sure to perform a train, validate, test split before and use only your train dataset to explore the relationships between independent variables with other independent variables or independent variables with your target variable."
   ]
  },
  {
   "cell_type": "markdown",
   "id": "21e3b0b4-35d4-4fc8-803b-82c7e0ce4022",
   "metadata": {},
   "source": [
    "## 2."
   ]
  },
  {
   "cell_type": "markdown",
   "id": "9a701ffd-a702-436c-ba7e-ff76ca5f4c45",
   "metadata": {},
   "source": [
    "Write a function named plot_variable_pairs that accepts a dataframe as input and plots all of the pairwise relationships along with the regression line for each pair."
   ]
  },
  {
   "cell_type": "markdown",
   "id": "9bb78e2e-f429-48a5-9ed0-2558e41c0f61",
   "metadata": {},
   "source": [
    "## 3."
   ]
  },
  {
   "cell_type": "markdown",
   "id": "07f0fa5c-f807-487b-b780-17b766818d6c",
   "metadata": {},
   "source": [
    "Write a function named months_to_years that accepts your telco churn dataframe and returns a dataframe with a new feature tenure_years, in complete years as a customer."
   ]
  },
  {
   "cell_type": "markdown",
   "id": "d5cc47f5-69dc-4f75-8d9e-f618e15947d1",
   "metadata": {},
   "source": [
    "## 4."
   ]
  },
  {
   "cell_type": "markdown",
   "id": "e9a270f5-54af-4fa4-9024-ed7a5c457e50",
   "metadata": {},
   "source": [
    "Write a function named plot_categorical_and_continuous_vars that accepts your dataframe and the name of the columns that hold the continuous and categorical features and outputs 3 different plots for visualizing a categorical variable and a continuous variable."
   ]
  },
  {
   "cell_type": "markdown",
   "id": "0aad7568-7046-4629-89b0-f0a780478645",
   "metadata": {},
   "source": [
    "## 5."
   ]
  },
  {
   "cell_type": "markdown",
   "id": "1bf2a2ec-2243-4f94-80c7-8a9681ed9a39",
   "metadata": {},
   "source": [
    "Save the functions you have written to create visualizations in your explore.py file. Rewrite your notebook code so that you are using the functions imported from this file."
   ]
  },
  {
   "cell_type": "markdown",
   "id": "b11802f7-e759-4174-847c-6ab51ebe1575",
   "metadata": {},
   "source": [
    "## 6."
   ]
  },
  {
   "cell_type": "markdown",
   "id": "40aee4c3-3f56-4d1b-9a86-02614b4cc993",
   "metadata": {},
   "source": [
    "Explore your dataset with any other visualizations you think will be helpful."
   ]
  },
  {
   "cell_type": "markdown",
   "id": "fb09bc66-115c-4212-b965-5b24a7394f8b",
   "metadata": {},
   "source": [
    "## 7."
   ]
  },
  {
   "cell_type": "markdown",
   "id": "0abaeed0-7553-4283-8988-b983c13e152d",
   "metadata": {},
   "source": [
    "In a seperate notebook, use the functions you have developed in this exercise with the mall_customers dataset in the Codeup database server. You will need to write a sql query to acquire your data. Make spending_score your target variable."
   ]
  },
  {
   "cell_type": "code",
   "execution_count": null,
   "id": "07229972-e269-48ac-a77a-201c6c36e7c4",
   "metadata": {},
   "outputs": [],
   "source": []
  }
 ],
 "metadata": {
  "kernelspec": {
   "display_name": "Python 3",
   "language": "python",
   "name": "python3"
  },
  "language_info": {
   "codemirror_mode": {
    "name": "ipython",
    "version": 3
   },
   "file_extension": ".py",
   "mimetype": "text/x-python",
   "name": "python",
   "nbconvert_exporter": "python",
   "pygments_lexer": "ipython3",
   "version": "3.8.8"
  }
 },
 "nbformat": 4,
 "nbformat_minor": 5
}
