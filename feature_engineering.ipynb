{
 "cells": [
  {
   "cell_type": "markdown",
   "id": "4a09cede-2712-45ce-90d7-560e1da14a31",
   "metadata": {},
   "source": [
    "# Feature Engineering Exercises"
   ]
  },
  {
   "cell_type": "code",
   "execution_count": 1,
   "id": "ef5abed8-ef2c-4a34-bf6c-f948f57c0dba",
   "metadata": {},
   "outputs": [],
   "source": [
    "import pandas as pd\n",
    "import numpy as np\n",
    "from pydataset import data\n",
    "import matplotlib.pyplot as plt\n",
    "\n",
    "from sklearn.feature_selection import SelectKBest, f_regression, RFE\n",
    "from sklearn.linear_model import LinearRegression\n",
    "from sklearn.model_selection import train_test_split\n",
    "from sklearn.preprocessing import MinMaxScaler"
   ]
  },
  {
   "cell_type": "markdown",
   "id": "eb09b5d1-3b57-4b4e-9d00-b804e8f42d75",
   "metadata": {},
   "source": [
    "Do your work for this exercise in a jupyter notebook named `feature_engineering` within the r`egression-exercises` repo. Add, commit, and push your work."
   ]
  },
  {
   "cell_type": "markdown",
   "id": "9b223dae-11ae-4aa6-88f1-f6835d79b5fc",
   "metadata": {},
   "source": [
    "## 1."
   ]
  },
  {
   "cell_type": "markdown",
   "id": "badd1e8a-a433-424d-b764-ff08f371dc21",
   "metadata": {},
   "source": [
    "Load the `tips` dataset."
   ]
  },
  {
   "cell_type": "code",
   "execution_count": 2,
   "id": "a58ae4bd-925a-4595-8bd6-5259e8e04180",
   "metadata": {},
   "outputs": [
    {
     "data": {
      "text/html": [
       "<div>\n",
       "<style scoped>\n",
       "    .dataframe tbody tr th:only-of-type {\n",
       "        vertical-align: middle;\n",
       "    }\n",
       "\n",
       "    .dataframe tbody tr th {\n",
       "        vertical-align: top;\n",
       "    }\n",
       "\n",
       "    .dataframe thead th {\n",
       "        text-align: right;\n",
       "    }\n",
       "</style>\n",
       "<table border=\"1\" class=\"dataframe\">\n",
       "  <thead>\n",
       "    <tr style=\"text-align: right;\">\n",
       "      <th></th>\n",
       "      <th>total_bill</th>\n",
       "      <th>tip</th>\n",
       "      <th>sex</th>\n",
       "      <th>smoker</th>\n",
       "      <th>day</th>\n",
       "      <th>time</th>\n",
       "      <th>size</th>\n",
       "    </tr>\n",
       "  </thead>\n",
       "  <tbody>\n",
       "    <tr>\n",
       "      <th>1</th>\n",
       "      <td>16.99</td>\n",
       "      <td>1.01</td>\n",
       "      <td>Female</td>\n",
       "      <td>No</td>\n",
       "      <td>Sun</td>\n",
       "      <td>Dinner</td>\n",
       "      <td>2</td>\n",
       "    </tr>\n",
       "    <tr>\n",
       "      <th>2</th>\n",
       "      <td>10.34</td>\n",
       "      <td>1.66</td>\n",
       "      <td>Male</td>\n",
       "      <td>No</td>\n",
       "      <td>Sun</td>\n",
       "      <td>Dinner</td>\n",
       "      <td>3</td>\n",
       "    </tr>\n",
       "    <tr>\n",
       "      <th>3</th>\n",
       "      <td>21.01</td>\n",
       "      <td>3.50</td>\n",
       "      <td>Male</td>\n",
       "      <td>No</td>\n",
       "      <td>Sun</td>\n",
       "      <td>Dinner</td>\n",
       "      <td>3</td>\n",
       "    </tr>\n",
       "    <tr>\n",
       "      <th>4</th>\n",
       "      <td>23.68</td>\n",
       "      <td>3.31</td>\n",
       "      <td>Male</td>\n",
       "      <td>No</td>\n",
       "      <td>Sun</td>\n",
       "      <td>Dinner</td>\n",
       "      <td>2</td>\n",
       "    </tr>\n",
       "    <tr>\n",
       "      <th>5</th>\n",
       "      <td>24.59</td>\n",
       "      <td>3.61</td>\n",
       "      <td>Female</td>\n",
       "      <td>No</td>\n",
       "      <td>Sun</td>\n",
       "      <td>Dinner</td>\n",
       "      <td>4</td>\n",
       "    </tr>\n",
       "  </tbody>\n",
       "</table>\n",
       "</div>"
      ],
      "text/plain": [
       "   total_bill   tip     sex smoker  day    time  size\n",
       "1       16.99  1.01  Female     No  Sun  Dinner     2\n",
       "2       10.34  1.66    Male     No  Sun  Dinner     3\n",
       "3       21.01  3.50    Male     No  Sun  Dinner     3\n",
       "4       23.68  3.31    Male     No  Sun  Dinner     2\n",
       "5       24.59  3.61  Female     No  Sun  Dinner     4"
      ]
     },
     "execution_count": 2,
     "metadata": {},
     "output_type": "execute_result"
    }
   ],
   "source": [
    "tips = data('tips')\n",
    "tips.head()"
   ]
  },
  {
   "cell_type": "code",
   "execution_count": 3,
   "id": "78dfd6d2-6e41-4333-9d1b-28a9e2a60e58",
   "metadata": {},
   "outputs": [
    {
     "data": {
      "text/plain": [
       "Sat     87\n",
       "Sun     76\n",
       "Thur    62\n",
       "Fri     19\n",
       "Name: day, dtype: int64"
      ]
     },
     "execution_count": 3,
     "metadata": {},
     "output_type": "execute_result"
    }
   ],
   "source": [
    "# what are categories for day column?\n",
    "tips.day.value_counts()"
   ]
  },
  {
   "cell_type": "markdown",
   "id": "81412e0a-90d0-4055-8a16-32c7b261cc92",
   "metadata": {},
   "source": [
    "**Next things to do:**\n",
    "- Encode all binary categorical columns using:\n",
    "    - tips['smoker'] = (tips.smoker == 'Yes').astype(int)\n",
    "    - tips['dinner'] = (tips.time == 'Dinner').astype(int)\n",
    "    - same for sex\n",
    "- use pd.getdummies for day column\n",
    "    - Should I drop or deep the last column\n",
    "    - I get that it is redundant, but how can you tell if it would have had impact or been an important feature?"
   ]
  },
  {
   "cell_type": "code",
   "execution_count": 4,
   "id": "1b548c3c-3557-4980-bffc-382af04082b9",
   "metadata": {},
   "outputs": [],
   "source": [
    "# change binary categorical columns to 1s and 0s\n",
    "tips['smoker'] = (tips.smoker == 'Yes').astype(int)\n",
    "tips['dinner'] = (tips.time == 'Dinner').astype(int)\n",
    "tips['male'] = (tips.sex == 'Male').astype(int)"
   ]
  },
  {
   "cell_type": "code",
   "execution_count": 5,
   "id": "9d4eccc6-4219-4aef-8e2f-0972b0b28f4c",
   "metadata": {},
   "outputs": [
    {
     "data": {
      "text/html": [
       "<div>\n",
       "<style scoped>\n",
       "    .dataframe tbody tr th:only-of-type {\n",
       "        vertical-align: middle;\n",
       "    }\n",
       "\n",
       "    .dataframe tbody tr th {\n",
       "        vertical-align: top;\n",
       "    }\n",
       "\n",
       "    .dataframe thead th {\n",
       "        text-align: right;\n",
       "    }\n",
       "</style>\n",
       "<table border=\"1\" class=\"dataframe\">\n",
       "  <thead>\n",
       "    <tr style=\"text-align: right;\">\n",
       "      <th></th>\n",
       "      <th>total_bill</th>\n",
       "      <th>tip</th>\n",
       "      <th>sex</th>\n",
       "      <th>smoker</th>\n",
       "      <th>day</th>\n",
       "      <th>time</th>\n",
       "      <th>size</th>\n",
       "      <th>dinner</th>\n",
       "      <th>male</th>\n",
       "    </tr>\n",
       "  </thead>\n",
       "  <tbody>\n",
       "    <tr>\n",
       "      <th>1</th>\n",
       "      <td>16.99</td>\n",
       "      <td>1.01</td>\n",
       "      <td>Female</td>\n",
       "      <td>0</td>\n",
       "      <td>Sun</td>\n",
       "      <td>Dinner</td>\n",
       "      <td>2</td>\n",
       "      <td>1</td>\n",
       "      <td>0</td>\n",
       "    </tr>\n",
       "    <tr>\n",
       "      <th>2</th>\n",
       "      <td>10.34</td>\n",
       "      <td>1.66</td>\n",
       "      <td>Male</td>\n",
       "      <td>0</td>\n",
       "      <td>Sun</td>\n",
       "      <td>Dinner</td>\n",
       "      <td>3</td>\n",
       "      <td>1</td>\n",
       "      <td>1</td>\n",
       "    </tr>\n",
       "    <tr>\n",
       "      <th>3</th>\n",
       "      <td>21.01</td>\n",
       "      <td>3.50</td>\n",
       "      <td>Male</td>\n",
       "      <td>0</td>\n",
       "      <td>Sun</td>\n",
       "      <td>Dinner</td>\n",
       "      <td>3</td>\n",
       "      <td>1</td>\n",
       "      <td>1</td>\n",
       "    </tr>\n",
       "    <tr>\n",
       "      <th>4</th>\n",
       "      <td>23.68</td>\n",
       "      <td>3.31</td>\n",
       "      <td>Male</td>\n",
       "      <td>0</td>\n",
       "      <td>Sun</td>\n",
       "      <td>Dinner</td>\n",
       "      <td>2</td>\n",
       "      <td>1</td>\n",
       "      <td>1</td>\n",
       "    </tr>\n",
       "    <tr>\n",
       "      <th>5</th>\n",
       "      <td>24.59</td>\n",
       "      <td>3.61</td>\n",
       "      <td>Female</td>\n",
       "      <td>0</td>\n",
       "      <td>Sun</td>\n",
       "      <td>Dinner</td>\n",
       "      <td>4</td>\n",
       "      <td>1</td>\n",
       "      <td>0</td>\n",
       "    </tr>\n",
       "  </tbody>\n",
       "</table>\n",
       "</div>"
      ],
      "text/plain": [
       "   total_bill   tip     sex  smoker  day    time  size  dinner  male\n",
       "1       16.99  1.01  Female       0  Sun  Dinner     2       1     0\n",
       "2       10.34  1.66    Male       0  Sun  Dinner     3       1     1\n",
       "3       21.01  3.50    Male       0  Sun  Dinner     3       1     1\n",
       "4       23.68  3.31    Male       0  Sun  Dinner     2       1     1\n",
       "5       24.59  3.61  Female       0  Sun  Dinner     4       1     0"
      ]
     },
     "execution_count": 5,
     "metadata": {},
     "output_type": "execute_result"
    }
   ],
   "source": [
    "tips.head()"
   ]
  },
  {
   "cell_type": "code",
   "execution_count": 6,
   "id": "4ef98ecc-68a3-4654-8141-a6ff66a89105",
   "metadata": {},
   "outputs": [],
   "source": [
    "tips = pd.get_dummies(data=tips, columns=['day'])"
   ]
  },
  {
   "cell_type": "code",
   "execution_count": 7,
   "id": "ead33e6a-c523-4655-b0f3-7b6392289bda",
   "metadata": {},
   "outputs": [
    {
     "data": {
      "text/html": [
       "<div>\n",
       "<style scoped>\n",
       "    .dataframe tbody tr th:only-of-type {\n",
       "        vertical-align: middle;\n",
       "    }\n",
       "\n",
       "    .dataframe tbody tr th {\n",
       "        vertical-align: top;\n",
       "    }\n",
       "\n",
       "    .dataframe thead th {\n",
       "        text-align: right;\n",
       "    }\n",
       "</style>\n",
       "<table border=\"1\" class=\"dataframe\">\n",
       "  <thead>\n",
       "    <tr style=\"text-align: right;\">\n",
       "      <th></th>\n",
       "      <th>total_bill</th>\n",
       "      <th>tip</th>\n",
       "      <th>sex</th>\n",
       "      <th>smoker</th>\n",
       "      <th>time</th>\n",
       "      <th>size</th>\n",
       "      <th>dinner</th>\n",
       "      <th>male</th>\n",
       "      <th>day_Fri</th>\n",
       "      <th>day_Sat</th>\n",
       "      <th>day_Sun</th>\n",
       "      <th>day_Thur</th>\n",
       "    </tr>\n",
       "  </thead>\n",
       "  <tbody>\n",
       "    <tr>\n",
       "      <th>1</th>\n",
       "      <td>16.99</td>\n",
       "      <td>1.01</td>\n",
       "      <td>Female</td>\n",
       "      <td>0</td>\n",
       "      <td>Dinner</td>\n",
       "      <td>2</td>\n",
       "      <td>1</td>\n",
       "      <td>0</td>\n",
       "      <td>0</td>\n",
       "      <td>0</td>\n",
       "      <td>1</td>\n",
       "      <td>0</td>\n",
       "    </tr>\n",
       "    <tr>\n",
       "      <th>2</th>\n",
       "      <td>10.34</td>\n",
       "      <td>1.66</td>\n",
       "      <td>Male</td>\n",
       "      <td>0</td>\n",
       "      <td>Dinner</td>\n",
       "      <td>3</td>\n",
       "      <td>1</td>\n",
       "      <td>1</td>\n",
       "      <td>0</td>\n",
       "      <td>0</td>\n",
       "      <td>1</td>\n",
       "      <td>0</td>\n",
       "    </tr>\n",
       "    <tr>\n",
       "      <th>3</th>\n",
       "      <td>21.01</td>\n",
       "      <td>3.50</td>\n",
       "      <td>Male</td>\n",
       "      <td>0</td>\n",
       "      <td>Dinner</td>\n",
       "      <td>3</td>\n",
       "      <td>1</td>\n",
       "      <td>1</td>\n",
       "      <td>0</td>\n",
       "      <td>0</td>\n",
       "      <td>1</td>\n",
       "      <td>0</td>\n",
       "    </tr>\n",
       "    <tr>\n",
       "      <th>4</th>\n",
       "      <td>23.68</td>\n",
       "      <td>3.31</td>\n",
       "      <td>Male</td>\n",
       "      <td>0</td>\n",
       "      <td>Dinner</td>\n",
       "      <td>2</td>\n",
       "      <td>1</td>\n",
       "      <td>1</td>\n",
       "      <td>0</td>\n",
       "      <td>0</td>\n",
       "      <td>1</td>\n",
       "      <td>0</td>\n",
       "    </tr>\n",
       "    <tr>\n",
       "      <th>5</th>\n",
       "      <td>24.59</td>\n",
       "      <td>3.61</td>\n",
       "      <td>Female</td>\n",
       "      <td>0</td>\n",
       "      <td>Dinner</td>\n",
       "      <td>4</td>\n",
       "      <td>1</td>\n",
       "      <td>0</td>\n",
       "      <td>0</td>\n",
       "      <td>0</td>\n",
       "      <td>1</td>\n",
       "      <td>0</td>\n",
       "    </tr>\n",
       "    <tr>\n",
       "      <th>...</th>\n",
       "      <td>...</td>\n",
       "      <td>...</td>\n",
       "      <td>...</td>\n",
       "      <td>...</td>\n",
       "      <td>...</td>\n",
       "      <td>...</td>\n",
       "      <td>...</td>\n",
       "      <td>...</td>\n",
       "      <td>...</td>\n",
       "      <td>...</td>\n",
       "      <td>...</td>\n",
       "      <td>...</td>\n",
       "    </tr>\n",
       "    <tr>\n",
       "      <th>240</th>\n",
       "      <td>29.03</td>\n",
       "      <td>5.92</td>\n",
       "      <td>Male</td>\n",
       "      <td>0</td>\n",
       "      <td>Dinner</td>\n",
       "      <td>3</td>\n",
       "      <td>1</td>\n",
       "      <td>1</td>\n",
       "      <td>0</td>\n",
       "      <td>1</td>\n",
       "      <td>0</td>\n",
       "      <td>0</td>\n",
       "    </tr>\n",
       "    <tr>\n",
       "      <th>241</th>\n",
       "      <td>27.18</td>\n",
       "      <td>2.00</td>\n",
       "      <td>Female</td>\n",
       "      <td>1</td>\n",
       "      <td>Dinner</td>\n",
       "      <td>2</td>\n",
       "      <td>1</td>\n",
       "      <td>0</td>\n",
       "      <td>0</td>\n",
       "      <td>1</td>\n",
       "      <td>0</td>\n",
       "      <td>0</td>\n",
       "    </tr>\n",
       "    <tr>\n",
       "      <th>242</th>\n",
       "      <td>22.67</td>\n",
       "      <td>2.00</td>\n",
       "      <td>Male</td>\n",
       "      <td>1</td>\n",
       "      <td>Dinner</td>\n",
       "      <td>2</td>\n",
       "      <td>1</td>\n",
       "      <td>1</td>\n",
       "      <td>0</td>\n",
       "      <td>1</td>\n",
       "      <td>0</td>\n",
       "      <td>0</td>\n",
       "    </tr>\n",
       "    <tr>\n",
       "      <th>243</th>\n",
       "      <td>17.82</td>\n",
       "      <td>1.75</td>\n",
       "      <td>Male</td>\n",
       "      <td>0</td>\n",
       "      <td>Dinner</td>\n",
       "      <td>2</td>\n",
       "      <td>1</td>\n",
       "      <td>1</td>\n",
       "      <td>0</td>\n",
       "      <td>1</td>\n",
       "      <td>0</td>\n",
       "      <td>0</td>\n",
       "    </tr>\n",
       "    <tr>\n",
       "      <th>244</th>\n",
       "      <td>18.78</td>\n",
       "      <td>3.00</td>\n",
       "      <td>Female</td>\n",
       "      <td>0</td>\n",
       "      <td>Dinner</td>\n",
       "      <td>2</td>\n",
       "      <td>1</td>\n",
       "      <td>0</td>\n",
       "      <td>0</td>\n",
       "      <td>0</td>\n",
       "      <td>0</td>\n",
       "      <td>1</td>\n",
       "    </tr>\n",
       "  </tbody>\n",
       "</table>\n",
       "<p>244 rows × 12 columns</p>\n",
       "</div>"
      ],
      "text/plain": [
       "     total_bill   tip     sex  smoker    time  size  dinner  male  day_Fri  \\\n",
       "1         16.99  1.01  Female       0  Dinner     2       1     0        0   \n",
       "2         10.34  1.66    Male       0  Dinner     3       1     1        0   \n",
       "3         21.01  3.50    Male       0  Dinner     3       1     1        0   \n",
       "4         23.68  3.31    Male       0  Dinner     2       1     1        0   \n",
       "5         24.59  3.61  Female       0  Dinner     4       1     0        0   \n",
       "..          ...   ...     ...     ...     ...   ...     ...   ...      ...   \n",
       "240       29.03  5.92    Male       0  Dinner     3       1     1        0   \n",
       "241       27.18  2.00  Female       1  Dinner     2       1     0        0   \n",
       "242       22.67  2.00    Male       1  Dinner     2       1     1        0   \n",
       "243       17.82  1.75    Male       0  Dinner     2       1     1        0   \n",
       "244       18.78  3.00  Female       0  Dinner     2       1     0        0   \n",
       "\n",
       "     day_Sat  day_Sun  day_Thur  \n",
       "1          0        1         0  \n",
       "2          0        1         0  \n",
       "3          0        1         0  \n",
       "4          0        1         0  \n",
       "5          0        1         0  \n",
       "..       ...      ...       ...  \n",
       "240        1        0         0  \n",
       "241        1        0         0  \n",
       "242        1        0         0  \n",
       "243        1        0         0  \n",
       "244        0        0         1  \n",
       "\n",
       "[244 rows x 12 columns]"
      ]
     },
     "execution_count": 7,
     "metadata": {},
     "output_type": "execute_result"
    }
   ],
   "source": [
    "tips"
   ]
  },
  {
   "cell_type": "markdown",
   "id": "c31bbec0-a5e3-4734-b6a8-48247a211b68",
   "metadata": {},
   "source": [
    "- Create a column named `tip_percentage`. This should be the tip amount divided by the total bill."
   ]
  },
  {
   "cell_type": "code",
   "execution_count": 8,
   "id": "9e630863-3eed-4b9e-a653-cc8533a1438d",
   "metadata": {},
   "outputs": [
    {
     "data": {
      "text/html": [
       "<div>\n",
       "<style scoped>\n",
       "    .dataframe tbody tr th:only-of-type {\n",
       "        vertical-align: middle;\n",
       "    }\n",
       "\n",
       "    .dataframe tbody tr th {\n",
       "        vertical-align: top;\n",
       "    }\n",
       "\n",
       "    .dataframe thead th {\n",
       "        text-align: right;\n",
       "    }\n",
       "</style>\n",
       "<table border=\"1\" class=\"dataframe\">\n",
       "  <thead>\n",
       "    <tr style=\"text-align: right;\">\n",
       "      <th></th>\n",
       "      <th>total_bill</th>\n",
       "      <th>tip</th>\n",
       "      <th>sex</th>\n",
       "      <th>smoker</th>\n",
       "      <th>time</th>\n",
       "      <th>size</th>\n",
       "      <th>dinner</th>\n",
       "      <th>male</th>\n",
       "      <th>day_Fri</th>\n",
       "      <th>day_Sat</th>\n",
       "      <th>day_Sun</th>\n",
       "      <th>day_Thur</th>\n",
       "      <th>tip_percentage</th>\n",
       "    </tr>\n",
       "  </thead>\n",
       "  <tbody>\n",
       "    <tr>\n",
       "      <th>1</th>\n",
       "      <td>16.99</td>\n",
       "      <td>1.01</td>\n",
       "      <td>Female</td>\n",
       "      <td>0</td>\n",
       "      <td>Dinner</td>\n",
       "      <td>2</td>\n",
       "      <td>1</td>\n",
       "      <td>0</td>\n",
       "      <td>0</td>\n",
       "      <td>0</td>\n",
       "      <td>1</td>\n",
       "      <td>0</td>\n",
       "      <td>0.059447</td>\n",
       "    </tr>\n",
       "    <tr>\n",
       "      <th>2</th>\n",
       "      <td>10.34</td>\n",
       "      <td>1.66</td>\n",
       "      <td>Male</td>\n",
       "      <td>0</td>\n",
       "      <td>Dinner</td>\n",
       "      <td>3</td>\n",
       "      <td>1</td>\n",
       "      <td>1</td>\n",
       "      <td>0</td>\n",
       "      <td>0</td>\n",
       "      <td>1</td>\n",
       "      <td>0</td>\n",
       "      <td>0.160542</td>\n",
       "    </tr>\n",
       "    <tr>\n",
       "      <th>3</th>\n",
       "      <td>21.01</td>\n",
       "      <td>3.50</td>\n",
       "      <td>Male</td>\n",
       "      <td>0</td>\n",
       "      <td>Dinner</td>\n",
       "      <td>3</td>\n",
       "      <td>1</td>\n",
       "      <td>1</td>\n",
       "      <td>0</td>\n",
       "      <td>0</td>\n",
       "      <td>1</td>\n",
       "      <td>0</td>\n",
       "      <td>0.166587</td>\n",
       "    </tr>\n",
       "    <tr>\n",
       "      <th>4</th>\n",
       "      <td>23.68</td>\n",
       "      <td>3.31</td>\n",
       "      <td>Male</td>\n",
       "      <td>0</td>\n",
       "      <td>Dinner</td>\n",
       "      <td>2</td>\n",
       "      <td>1</td>\n",
       "      <td>1</td>\n",
       "      <td>0</td>\n",
       "      <td>0</td>\n",
       "      <td>1</td>\n",
       "      <td>0</td>\n",
       "      <td>0.139780</td>\n",
       "    </tr>\n",
       "    <tr>\n",
       "      <th>5</th>\n",
       "      <td>24.59</td>\n",
       "      <td>3.61</td>\n",
       "      <td>Female</td>\n",
       "      <td>0</td>\n",
       "      <td>Dinner</td>\n",
       "      <td>4</td>\n",
       "      <td>1</td>\n",
       "      <td>0</td>\n",
       "      <td>0</td>\n",
       "      <td>0</td>\n",
       "      <td>1</td>\n",
       "      <td>0</td>\n",
       "      <td>0.146808</td>\n",
       "    </tr>\n",
       "  </tbody>\n",
       "</table>\n",
       "</div>"
      ],
      "text/plain": [
       "   total_bill   tip     sex  smoker    time  size  dinner  male  day_Fri  \\\n",
       "1       16.99  1.01  Female       0  Dinner     2       1     0        0   \n",
       "2       10.34  1.66    Male       0  Dinner     3       1     1        0   \n",
       "3       21.01  3.50    Male       0  Dinner     3       1     1        0   \n",
       "4       23.68  3.31    Male       0  Dinner     2       1     1        0   \n",
       "5       24.59  3.61  Female       0  Dinner     4       1     0        0   \n",
       "\n",
       "   day_Sat  day_Sun  day_Thur  tip_percentage  \n",
       "1        0        1         0        0.059447  \n",
       "2        0        1         0        0.160542  \n",
       "3        0        1         0        0.166587  \n",
       "4        0        1         0        0.139780  \n",
       "5        0        1         0        0.146808  "
      ]
     },
     "execution_count": 8,
     "metadata": {},
     "output_type": "execute_result"
    }
   ],
   "source": [
    "tips['tip_percentage'] = tips.tip / tips.total_bill\n",
    "tips.head()"
   ]
  },
  {
   "cell_type": "markdown",
   "id": "c6fd1773-b829-44d1-90f2-5de76273e055",
   "metadata": {},
   "source": [
    "- Create a column named `price_per_person`. This should be the total bill divided by the party size."
   ]
  },
  {
   "cell_type": "code",
   "execution_count": 9,
   "id": "50420af0-ec9b-4afa-9fdc-44470972908c",
   "metadata": {},
   "outputs": [
    {
     "data": {
      "text/html": [
       "<div>\n",
       "<style scoped>\n",
       "    .dataframe tbody tr th:only-of-type {\n",
       "        vertical-align: middle;\n",
       "    }\n",
       "\n",
       "    .dataframe tbody tr th {\n",
       "        vertical-align: top;\n",
       "    }\n",
       "\n",
       "    .dataframe thead th {\n",
       "        text-align: right;\n",
       "    }\n",
       "</style>\n",
       "<table border=\"1\" class=\"dataframe\">\n",
       "  <thead>\n",
       "    <tr style=\"text-align: right;\">\n",
       "      <th></th>\n",
       "      <th>total_bill</th>\n",
       "      <th>tip</th>\n",
       "      <th>sex</th>\n",
       "      <th>smoker</th>\n",
       "      <th>time</th>\n",
       "      <th>size</th>\n",
       "      <th>dinner</th>\n",
       "      <th>male</th>\n",
       "      <th>day_Fri</th>\n",
       "      <th>day_Sat</th>\n",
       "      <th>day_Sun</th>\n",
       "      <th>day_Thur</th>\n",
       "      <th>tip_percentage</th>\n",
       "      <th>price_per_person</th>\n",
       "    </tr>\n",
       "  </thead>\n",
       "  <tbody>\n",
       "    <tr>\n",
       "      <th>1</th>\n",
       "      <td>16.99</td>\n",
       "      <td>1.01</td>\n",
       "      <td>Female</td>\n",
       "      <td>0</td>\n",
       "      <td>Dinner</td>\n",
       "      <td>2</td>\n",
       "      <td>1</td>\n",
       "      <td>0</td>\n",
       "      <td>0</td>\n",
       "      <td>0</td>\n",
       "      <td>1</td>\n",
       "      <td>0</td>\n",
       "      <td>0.059447</td>\n",
       "      <td>8.495000</td>\n",
       "    </tr>\n",
       "    <tr>\n",
       "      <th>2</th>\n",
       "      <td>10.34</td>\n",
       "      <td>1.66</td>\n",
       "      <td>Male</td>\n",
       "      <td>0</td>\n",
       "      <td>Dinner</td>\n",
       "      <td>3</td>\n",
       "      <td>1</td>\n",
       "      <td>1</td>\n",
       "      <td>0</td>\n",
       "      <td>0</td>\n",
       "      <td>1</td>\n",
       "      <td>0</td>\n",
       "      <td>0.160542</td>\n",
       "      <td>3.446667</td>\n",
       "    </tr>\n",
       "    <tr>\n",
       "      <th>3</th>\n",
       "      <td>21.01</td>\n",
       "      <td>3.50</td>\n",
       "      <td>Male</td>\n",
       "      <td>0</td>\n",
       "      <td>Dinner</td>\n",
       "      <td>3</td>\n",
       "      <td>1</td>\n",
       "      <td>1</td>\n",
       "      <td>0</td>\n",
       "      <td>0</td>\n",
       "      <td>1</td>\n",
       "      <td>0</td>\n",
       "      <td>0.166587</td>\n",
       "      <td>7.003333</td>\n",
       "    </tr>\n",
       "    <tr>\n",
       "      <th>4</th>\n",
       "      <td>23.68</td>\n",
       "      <td>3.31</td>\n",
       "      <td>Male</td>\n",
       "      <td>0</td>\n",
       "      <td>Dinner</td>\n",
       "      <td>2</td>\n",
       "      <td>1</td>\n",
       "      <td>1</td>\n",
       "      <td>0</td>\n",
       "      <td>0</td>\n",
       "      <td>1</td>\n",
       "      <td>0</td>\n",
       "      <td>0.139780</td>\n",
       "      <td>11.840000</td>\n",
       "    </tr>\n",
       "    <tr>\n",
       "      <th>5</th>\n",
       "      <td>24.59</td>\n",
       "      <td>3.61</td>\n",
       "      <td>Female</td>\n",
       "      <td>0</td>\n",
       "      <td>Dinner</td>\n",
       "      <td>4</td>\n",
       "      <td>1</td>\n",
       "      <td>0</td>\n",
       "      <td>0</td>\n",
       "      <td>0</td>\n",
       "      <td>1</td>\n",
       "      <td>0</td>\n",
       "      <td>0.146808</td>\n",
       "      <td>6.147500</td>\n",
       "    </tr>\n",
       "  </tbody>\n",
       "</table>\n",
       "</div>"
      ],
      "text/plain": [
       "   total_bill   tip     sex  smoker    time  size  dinner  male  day_Fri  \\\n",
       "1       16.99  1.01  Female       0  Dinner     2       1     0        0   \n",
       "2       10.34  1.66    Male       0  Dinner     3       1     1        0   \n",
       "3       21.01  3.50    Male       0  Dinner     3       1     1        0   \n",
       "4       23.68  3.31    Male       0  Dinner     2       1     1        0   \n",
       "5       24.59  3.61  Female       0  Dinner     4       1     0        0   \n",
       "\n",
       "   day_Sat  day_Sun  day_Thur  tip_percentage  price_per_person  \n",
       "1        0        1         0        0.059447          8.495000  \n",
       "2        0        1         0        0.160542          3.446667  \n",
       "3        0        1         0        0.166587          7.003333  \n",
       "4        0        1         0        0.139780         11.840000  \n",
       "5        0        1         0        0.146808          6.147500  "
      ]
     },
     "execution_count": 9,
     "metadata": {},
     "output_type": "execute_result"
    }
   ],
   "source": [
    "tips['price_per_person'] = tips.total_bill / tips['size']\n",
    "tips.head()"
   ]
  },
  {
   "cell_type": "markdown",
   "id": "30b0ff2e-aac7-4018-b81b-d37bcaafefad",
   "metadata": {},
   "source": [
    "- Before using any of the methods discussed in the lesson, which features do you think would be most important for predicting the tip amount? The tip percentage?"
   ]
  },
  {
   "cell_type": "markdown",
   "id": "2fdb16da-b70d-49be-b040-b1adfd3adf87",
   "metadata": {},
   "source": [
    "**I think total_bill, size, and price_per_person will be best predictors of tip amount**"
   ]
  },
  {
   "cell_type": "markdown",
   "id": "b721ecf3-a1e2-4455-8efa-97f30a4077fd",
   "metadata": {},
   "source": [
    "- Use select k best and recursive feature elimination to select the top 2 features for predicting tip amount. What are they?"
   ]
  },
  {
   "cell_type": "markdown",
   "id": "ba74eabb-8a79-4278-8e9d-425a00e00a09",
   "metadata": {},
   "source": [
    "### Target = tip"
   ]
  },
  {
   "cell_type": "code",
   "execution_count": 10,
   "id": "893c26bb-0373-463f-86dd-cb71e9fc1cdc",
   "metadata": {},
   "outputs": [],
   "source": [
    "# split data\n",
    "train_validate, test = train_test_split(tips, test_size=0.20, random_state=123)\n",
    "train, validate = train_test_split(train_validate, test_size=.25, random_state=123)"
   ]
  },
  {
   "cell_type": "code",
   "execution_count": 11,
   "id": "e32cba5c-425f-4126-bc2d-02032741b590",
   "metadata": {},
   "outputs": [
    {
     "data": {
      "text/plain": [
       "((146, 14), (49, 14), (49, 14))"
      ]
     },
     "execution_count": 11,
     "metadata": {},
     "output_type": "execute_result"
    }
   ],
   "source": [
    "train.shape, validate.shape, test.shape"
   ]
  },
  {
   "cell_type": "code",
   "execution_count": 12,
   "id": "981661ff-e1aa-4132-9b93-57f763cf6934",
   "metadata": {},
   "outputs": [],
   "source": [
    "# scale continuous columns\n",
    "import wrangle as w"
   ]
  },
  {
   "cell_type": "code",
   "execution_count": 13,
   "id": "ce946997-d05c-4ef4-83fb-400f18b167f0",
   "metadata": {},
   "outputs": [],
   "source": [
    "train_scaled, validate_scaled, test_scaled = w.add_scaled_columns(train, validate, test, MinMaxScaler(), ['total_bill', 'size', 'price_per_person'])"
   ]
  },
  {
   "cell_type": "code",
   "execution_count": 14,
   "id": "c43885c9-5b9e-4014-94bc-4509d06d3b23",
   "metadata": {},
   "outputs": [
    {
     "data": {
      "text/html": [
       "<div>\n",
       "<style scoped>\n",
       "    .dataframe tbody tr th:only-of-type {\n",
       "        vertical-align: middle;\n",
       "    }\n",
       "\n",
       "    .dataframe tbody tr th {\n",
       "        vertical-align: top;\n",
       "    }\n",
       "\n",
       "    .dataframe thead th {\n",
       "        text-align: right;\n",
       "    }\n",
       "</style>\n",
       "<table border=\"1\" class=\"dataframe\">\n",
       "  <thead>\n",
       "    <tr style=\"text-align: right;\">\n",
       "      <th></th>\n",
       "      <th>total_bill</th>\n",
       "      <th>tip</th>\n",
       "      <th>sex</th>\n",
       "      <th>smoker</th>\n",
       "      <th>time</th>\n",
       "      <th>size</th>\n",
       "      <th>dinner</th>\n",
       "      <th>male</th>\n",
       "      <th>day_Fri</th>\n",
       "      <th>day_Sat</th>\n",
       "      <th>day_Sun</th>\n",
       "      <th>day_Thur</th>\n",
       "      <th>tip_percentage</th>\n",
       "      <th>price_per_person</th>\n",
       "      <th>total_bill_scaled</th>\n",
       "      <th>size_scaled</th>\n",
       "      <th>price_per_person_scaled</th>\n",
       "    </tr>\n",
       "  </thead>\n",
       "  <tbody>\n",
       "    <tr>\n",
       "      <th>225</th>\n",
       "      <td>13.42</td>\n",
       "      <td>1.58</td>\n",
       "      <td>Male</td>\n",
       "      <td>1</td>\n",
       "      <td>Lunch</td>\n",
       "      <td>2</td>\n",
       "      <td>0</td>\n",
       "      <td>1</td>\n",
       "      <td>1</td>\n",
       "      <td>0</td>\n",
       "      <td>0</td>\n",
       "      <td>0</td>\n",
       "      <td>0.117735</td>\n",
       "      <td>6.710000</td>\n",
       "      <td>0.228679</td>\n",
       "      <td>0.2</td>\n",
       "      <td>0.211566</td>\n",
       "    </tr>\n",
       "    <tr>\n",
       "      <th>182</th>\n",
       "      <td>23.33</td>\n",
       "      <td>5.65</td>\n",
       "      <td>Male</td>\n",
       "      <td>1</td>\n",
       "      <td>Dinner</td>\n",
       "      <td>2</td>\n",
       "      <td>1</td>\n",
       "      <td>1</td>\n",
       "      <td>0</td>\n",
       "      <td>0</td>\n",
       "      <td>1</td>\n",
       "      <td>0</td>\n",
       "      <td>0.242177</td>\n",
       "      <td>11.665000</td>\n",
       "      <td>0.447636</td>\n",
       "      <td>0.2</td>\n",
       "      <td>0.499564</td>\n",
       "    </tr>\n",
       "    <tr>\n",
       "      <th>103</th>\n",
       "      <td>44.30</td>\n",
       "      <td>2.50</td>\n",
       "      <td>Female</td>\n",
       "      <td>1</td>\n",
       "      <td>Dinner</td>\n",
       "      <td>3</td>\n",
       "      <td>1</td>\n",
       "      <td>0</td>\n",
       "      <td>0</td>\n",
       "      <td>1</td>\n",
       "      <td>0</td>\n",
       "      <td>0</td>\n",
       "      <td>0.056433</td>\n",
       "      <td>14.766667</td>\n",
       "      <td>0.910959</td>\n",
       "      <td>0.4</td>\n",
       "      <td>0.679841</td>\n",
       "    </tr>\n",
       "    <tr>\n",
       "      <th>165</th>\n",
       "      <td>17.51</td>\n",
       "      <td>3.00</td>\n",
       "      <td>Female</td>\n",
       "      <td>1</td>\n",
       "      <td>Dinner</td>\n",
       "      <td>2</td>\n",
       "      <td>1</td>\n",
       "      <td>0</td>\n",
       "      <td>0</td>\n",
       "      <td>0</td>\n",
       "      <td>1</td>\n",
       "      <td>0</td>\n",
       "      <td>0.171331</td>\n",
       "      <td>8.755000</td>\n",
       "      <td>0.319046</td>\n",
       "      <td>0.2</td>\n",
       "      <td>0.330427</td>\n",
       "    </tr>\n",
       "    <tr>\n",
       "      <th>74</th>\n",
       "      <td>25.28</td>\n",
       "      <td>5.00</td>\n",
       "      <td>Female</td>\n",
       "      <td>1</td>\n",
       "      <td>Dinner</td>\n",
       "      <td>2</td>\n",
       "      <td>1</td>\n",
       "      <td>0</td>\n",
       "      <td>0</td>\n",
       "      <td>1</td>\n",
       "      <td>0</td>\n",
       "      <td>0</td>\n",
       "      <td>0.197785</td>\n",
       "      <td>12.640000</td>\n",
       "      <td>0.490720</td>\n",
       "      <td>0.2</td>\n",
       "      <td>0.556234</td>\n",
       "    </tr>\n",
       "  </tbody>\n",
       "</table>\n",
       "</div>"
      ],
      "text/plain": [
       "     total_bill   tip     sex  smoker    time  size  dinner  male  day_Fri  \\\n",
       "225       13.42  1.58    Male       1   Lunch     2       0     1        1   \n",
       "182       23.33  5.65    Male       1  Dinner     2       1     1        0   \n",
       "103       44.30  2.50  Female       1  Dinner     3       1     0        0   \n",
       "165       17.51  3.00  Female       1  Dinner     2       1     0        0   \n",
       "74        25.28  5.00  Female       1  Dinner     2       1     0        0   \n",
       "\n",
       "     day_Sat  day_Sun  day_Thur  tip_percentage  price_per_person  \\\n",
       "225        0        0         0        0.117735          6.710000   \n",
       "182        0        1         0        0.242177         11.665000   \n",
       "103        1        0         0        0.056433         14.766667   \n",
       "165        0        1         0        0.171331          8.755000   \n",
       "74         1        0         0        0.197785         12.640000   \n",
       "\n",
       "     total_bill_scaled  size_scaled  price_per_person_scaled  \n",
       "225           0.228679          0.2                 0.211566  \n",
       "182           0.447636          0.2                 0.499564  \n",
       "103           0.910959          0.4                 0.679841  \n",
       "165           0.319046          0.2                 0.330427  \n",
       "74            0.490720          0.2                 0.556234  "
      ]
     },
     "execution_count": 14,
     "metadata": {},
     "output_type": "execute_result"
    }
   ],
   "source": [
    "train_scaled.head()"
   ]
  },
  {
   "cell_type": "code",
   "execution_count": 15,
   "id": "30336c3a-a7a0-4d0d-a529-3de58eaed076",
   "metadata": {},
   "outputs": [],
   "source": [
    "# create X & y versions of splits, where y is a series with just the target variable and X are all the features. \n",
    "\n",
    "X_train = train_scaled.drop(columns=['tip', 'sex', 'time', 'tip_percentage', 'total_bill', 'size', 'price_per_person'])\n",
    "y_train = train_scaled.tip\n",
    "\n",
    "X_validate = validate_scaled.drop(columns=['tip', 'sex', 'time', 'tip_percentage', 'total_bill', 'size', 'price_per_person'])\n",
    "y_validate = validate_scaled.tip\n",
    "\n",
    "X_test = test_scaled.drop(columns=['tip', 'sex', 'time', 'tip_percentage', 'total_bill', 'size', 'price_per_person'])\n",
    "y_test = test_scaled.tip"
   ]
  },
  {
   "cell_type": "code",
   "execution_count": 16,
   "id": "b9300dec-a307-4e9b-9fa8-4f8b5e193adf",
   "metadata": {},
   "outputs": [
    {
     "data": {
      "text/html": [
       "<div>\n",
       "<style scoped>\n",
       "    .dataframe tbody tr th:only-of-type {\n",
       "        vertical-align: middle;\n",
       "    }\n",
       "\n",
       "    .dataframe tbody tr th {\n",
       "        vertical-align: top;\n",
       "    }\n",
       "\n",
       "    .dataframe thead th {\n",
       "        text-align: right;\n",
       "    }\n",
       "</style>\n",
       "<table border=\"1\" class=\"dataframe\">\n",
       "  <thead>\n",
       "    <tr style=\"text-align: right;\">\n",
       "      <th></th>\n",
       "      <th>smoker</th>\n",
       "      <th>dinner</th>\n",
       "      <th>male</th>\n",
       "      <th>day_Fri</th>\n",
       "      <th>day_Sat</th>\n",
       "      <th>day_Sun</th>\n",
       "      <th>day_Thur</th>\n",
       "      <th>total_bill_scaled</th>\n",
       "      <th>size_scaled</th>\n",
       "      <th>price_per_person_scaled</th>\n",
       "    </tr>\n",
       "  </thead>\n",
       "  <tbody>\n",
       "    <tr>\n",
       "      <th>225</th>\n",
       "      <td>1</td>\n",
       "      <td>0</td>\n",
       "      <td>1</td>\n",
       "      <td>1</td>\n",
       "      <td>0</td>\n",
       "      <td>0</td>\n",
       "      <td>0</td>\n",
       "      <td>0.228679</td>\n",
       "      <td>0.2</td>\n",
       "      <td>0.211566</td>\n",
       "    </tr>\n",
       "    <tr>\n",
       "      <th>182</th>\n",
       "      <td>1</td>\n",
       "      <td>1</td>\n",
       "      <td>1</td>\n",
       "      <td>0</td>\n",
       "      <td>0</td>\n",
       "      <td>1</td>\n",
       "      <td>0</td>\n",
       "      <td>0.447636</td>\n",
       "      <td>0.2</td>\n",
       "      <td>0.499564</td>\n",
       "    </tr>\n",
       "    <tr>\n",
       "      <th>103</th>\n",
       "      <td>1</td>\n",
       "      <td>1</td>\n",
       "      <td>0</td>\n",
       "      <td>0</td>\n",
       "      <td>1</td>\n",
       "      <td>0</td>\n",
       "      <td>0</td>\n",
       "      <td>0.910959</td>\n",
       "      <td>0.4</td>\n",
       "      <td>0.679841</td>\n",
       "    </tr>\n",
       "    <tr>\n",
       "      <th>165</th>\n",
       "      <td>1</td>\n",
       "      <td>1</td>\n",
       "      <td>0</td>\n",
       "      <td>0</td>\n",
       "      <td>0</td>\n",
       "      <td>1</td>\n",
       "      <td>0</td>\n",
       "      <td>0.319046</td>\n",
       "      <td>0.2</td>\n",
       "      <td>0.330427</td>\n",
       "    </tr>\n",
       "    <tr>\n",
       "      <th>74</th>\n",
       "      <td>1</td>\n",
       "      <td>1</td>\n",
       "      <td>0</td>\n",
       "      <td>0</td>\n",
       "      <td>1</td>\n",
       "      <td>0</td>\n",
       "      <td>0</td>\n",
       "      <td>0.490720</td>\n",
       "      <td>0.2</td>\n",
       "      <td>0.556234</td>\n",
       "    </tr>\n",
       "  </tbody>\n",
       "</table>\n",
       "</div>"
      ],
      "text/plain": [
       "     smoker  dinner  male  day_Fri  day_Sat  day_Sun  day_Thur  \\\n",
       "225       1       0     1        1        0        0         0   \n",
       "182       1       1     1        0        0        1         0   \n",
       "103       1       1     0        0        1        0         0   \n",
       "165       1       1     0        0        0        1         0   \n",
       "74        1       1     0        0        1        0         0   \n",
       "\n",
       "     total_bill_scaled  size_scaled  price_per_person_scaled  \n",
       "225           0.228679          0.2                 0.211566  \n",
       "182           0.447636          0.2                 0.499564  \n",
       "103           0.910959          0.4                 0.679841  \n",
       "165           0.319046          0.2                 0.330427  \n",
       "74            0.490720          0.2                 0.556234  "
      ]
     },
     "execution_count": 16,
     "metadata": {},
     "output_type": "execute_result"
    }
   ],
   "source": [
    "X_train.head()"
   ]
  },
  {
   "cell_type": "markdown",
   "id": "29855dfc-bafd-4ce5-a8d7-4ed5dfcd42da",
   "metadata": {},
   "source": [
    "#### KBest"
   ]
  },
  {
   "cell_type": "code",
   "execution_count": 17,
   "id": "1f9d3aef-517e-4ae8-86b8-e338de0b4b14",
   "metadata": {},
   "outputs": [],
   "source": [
    "# create the object\n",
    "kbest = SelectKBest(f_regression, k=2)"
   ]
  },
  {
   "cell_type": "code",
   "execution_count": 18,
   "id": "84c82b27-9f9d-4989-98e6-d4f53bafedc7",
   "metadata": {},
   "outputs": [
    {
     "data": {
      "text/plain": [
       "SelectKBest(k=2, score_func=<function f_regression at 0x7fb86b0219d0>)"
      ]
     },
     "execution_count": 18,
     "metadata": {},
     "output_type": "execute_result"
    }
   ],
   "source": [
    "# fit the object\n",
    "kbest.fit(X_train, y_train)"
   ]
  },
  {
   "cell_type": "code",
   "execution_count": 19,
   "id": "abcbae67-0ac7-4dde-8c4d-27064c4aaa56",
   "metadata": {},
   "outputs": [
    {
     "data": {
      "text/plain": [
       "['total_bill_scaled', 'size_scaled']"
      ]
     },
     "execution_count": 19,
     "metadata": {},
     "output_type": "execute_result"
    }
   ],
   "source": [
    "X_train.columns[kbest.get_support()].tolist()"
   ]
  },
  {
   "cell_type": "markdown",
   "id": "28631fd5-38d7-47ba-a181-55e544f3cf7c",
   "metadata": {},
   "source": [
    "#### RFE"
   ]
  },
  {
   "cell_type": "code",
   "execution_count": 20,
   "id": "d04d8225-d3f6-40db-8233-b22a32426b2e",
   "metadata": {},
   "outputs": [],
   "source": [
    "# create the object\n",
    "rfe = RFE(estimator=LinearRegression(), n_features_to_select=2)"
   ]
  },
  {
   "cell_type": "code",
   "execution_count": 21,
   "id": "f19cae72-a752-4ca2-8286-3a0f4e5698ec",
   "metadata": {},
   "outputs": [
    {
     "data": {
      "text/plain": [
       "RFE(estimator=LinearRegression(), n_features_to_select=2)"
      ]
     },
     "execution_count": 21,
     "metadata": {},
     "output_type": "execute_result"
    }
   ],
   "source": [
    "# fit the object\n",
    "rfe.fit(X_train, y_train)"
   ]
  },
  {
   "cell_type": "code",
   "execution_count": 22,
   "id": "2994883e-0917-4493-bbbd-4d8be904f5ab",
   "metadata": {},
   "outputs": [
    {
     "data": {
      "text/plain": [
       "['total_bill_scaled', 'price_per_person_scaled']"
      ]
     },
     "execution_count": 22,
     "metadata": {},
     "output_type": "execute_result"
    }
   ],
   "source": [
    "X_train.columns[rfe.get_support()].tolist()"
   ]
  },
  {
   "cell_type": "code",
   "execution_count": 23,
   "id": "00db8021-dd4f-42c3-8bcd-81b269c67757",
   "metadata": {},
   "outputs": [],
   "source": [
    "rankings = pd.Series(rfe.ranking_, index=X_train.columns)"
   ]
  },
  {
   "cell_type": "code",
   "execution_count": 24,
   "id": "53c2eee0-f9a5-4bd1-b59e-3ea27f19afef",
   "metadata": {},
   "outputs": [
    {
     "data": {
      "text/plain": [
       "total_bill_scaled          1\n",
       "price_per_person_scaled    1\n",
       "day_Sun                    2\n",
       "male                       3\n",
       "day_Fri                    4\n",
       "day_Sat                    5\n",
       "dinner                     6\n",
       "size_scaled                7\n",
       "day_Thur                   8\n",
       "smoker                     9\n",
       "dtype: int64"
      ]
     },
     "execution_count": 24,
     "metadata": {},
     "output_type": "execute_result"
    }
   ],
   "source": [
    "rankings.sort_values()"
   ]
  },
  {
   "cell_type": "markdown",
   "id": "c87f9e09-2be4-47c4-b61f-24202d0f15c1",
   "metadata": {},
   "source": [
    "- Use select k best and recursive feature elimination to select the top 2 features for predicting tip percentage. What are they?"
   ]
  },
  {
   "cell_type": "markdown",
   "id": "0fb7299d-93d0-4b0a-9bf2-b1e512dd9879",
   "metadata": {},
   "source": [
    "### Target = tip_percentage"
   ]
  },
  {
   "cell_type": "code",
   "execution_count": 25,
   "id": "d0b05f77-6188-415c-a5e8-7da793ac319b",
   "metadata": {},
   "outputs": [],
   "source": [
    "# create X & y versions of splits, where y is a series with just the target variable and X are all the features. \n",
    "\n",
    "X_train = train_scaled.drop(columns=['tip', 'sex', 'time', 'tip_percentage', 'total_bill', 'size', 'price_per_person'])\n",
    "y_train = train_scaled.tip_percentage\n",
    "\n",
    "X_validate = validate_scaled.drop(columns=['tip', 'sex', 'time', 'tip_percentage', 'total_bill', 'size', 'price_per_person'])\n",
    "y_validate = validate_scaled.tip_percentage\n",
    "\n",
    "X_test = test_scaled.drop(columns=['tip', 'sex', 'time', 'tip_percentage', 'total_bill', 'size', 'price_per_person'])\n",
    "y_test = test_scaled.tip_percentage"
   ]
  },
  {
   "cell_type": "code",
   "execution_count": 26,
   "id": "24416c50-9b8c-42a6-867d-3a8acd1db64e",
   "metadata": {},
   "outputs": [
    {
     "data": {
      "text/html": [
       "<div>\n",
       "<style scoped>\n",
       "    .dataframe tbody tr th:only-of-type {\n",
       "        vertical-align: middle;\n",
       "    }\n",
       "\n",
       "    .dataframe tbody tr th {\n",
       "        vertical-align: top;\n",
       "    }\n",
       "\n",
       "    .dataframe thead th {\n",
       "        text-align: right;\n",
       "    }\n",
       "</style>\n",
       "<table border=\"1\" class=\"dataframe\">\n",
       "  <thead>\n",
       "    <tr style=\"text-align: right;\">\n",
       "      <th></th>\n",
       "      <th>smoker</th>\n",
       "      <th>dinner</th>\n",
       "      <th>male</th>\n",
       "      <th>day_Fri</th>\n",
       "      <th>day_Sat</th>\n",
       "      <th>day_Sun</th>\n",
       "      <th>day_Thur</th>\n",
       "      <th>total_bill_scaled</th>\n",
       "      <th>size_scaled</th>\n",
       "      <th>price_per_person_scaled</th>\n",
       "    </tr>\n",
       "  </thead>\n",
       "  <tbody>\n",
       "    <tr>\n",
       "      <th>225</th>\n",
       "      <td>1</td>\n",
       "      <td>0</td>\n",
       "      <td>1</td>\n",
       "      <td>1</td>\n",
       "      <td>0</td>\n",
       "      <td>0</td>\n",
       "      <td>0</td>\n",
       "      <td>0.228679</td>\n",
       "      <td>0.2</td>\n",
       "      <td>0.211566</td>\n",
       "    </tr>\n",
       "    <tr>\n",
       "      <th>182</th>\n",
       "      <td>1</td>\n",
       "      <td>1</td>\n",
       "      <td>1</td>\n",
       "      <td>0</td>\n",
       "      <td>0</td>\n",
       "      <td>1</td>\n",
       "      <td>0</td>\n",
       "      <td>0.447636</td>\n",
       "      <td>0.2</td>\n",
       "      <td>0.499564</td>\n",
       "    </tr>\n",
       "    <tr>\n",
       "      <th>103</th>\n",
       "      <td>1</td>\n",
       "      <td>1</td>\n",
       "      <td>0</td>\n",
       "      <td>0</td>\n",
       "      <td>1</td>\n",
       "      <td>0</td>\n",
       "      <td>0</td>\n",
       "      <td>0.910959</td>\n",
       "      <td>0.4</td>\n",
       "      <td>0.679841</td>\n",
       "    </tr>\n",
       "    <tr>\n",
       "      <th>165</th>\n",
       "      <td>1</td>\n",
       "      <td>1</td>\n",
       "      <td>0</td>\n",
       "      <td>0</td>\n",
       "      <td>0</td>\n",
       "      <td>1</td>\n",
       "      <td>0</td>\n",
       "      <td>0.319046</td>\n",
       "      <td>0.2</td>\n",
       "      <td>0.330427</td>\n",
       "    </tr>\n",
       "    <tr>\n",
       "      <th>74</th>\n",
       "      <td>1</td>\n",
       "      <td>1</td>\n",
       "      <td>0</td>\n",
       "      <td>0</td>\n",
       "      <td>1</td>\n",
       "      <td>0</td>\n",
       "      <td>0</td>\n",
       "      <td>0.490720</td>\n",
       "      <td>0.2</td>\n",
       "      <td>0.556234</td>\n",
       "    </tr>\n",
       "  </tbody>\n",
       "</table>\n",
       "</div>"
      ],
      "text/plain": [
       "     smoker  dinner  male  day_Fri  day_Sat  day_Sun  day_Thur  \\\n",
       "225       1       0     1        1        0        0         0   \n",
       "182       1       1     1        0        0        1         0   \n",
       "103       1       1     0        0        1        0         0   \n",
       "165       1       1     0        0        0        1         0   \n",
       "74        1       1     0        0        1        0         0   \n",
       "\n",
       "     total_bill_scaled  size_scaled  price_per_person_scaled  \n",
       "225           0.228679          0.2                 0.211566  \n",
       "182           0.447636          0.2                 0.499564  \n",
       "103           0.910959          0.4                 0.679841  \n",
       "165           0.319046          0.2                 0.330427  \n",
       "74            0.490720          0.2                 0.556234  "
      ]
     },
     "execution_count": 26,
     "metadata": {},
     "output_type": "execute_result"
    }
   ],
   "source": [
    "X_train.head()"
   ]
  },
  {
   "cell_type": "markdown",
   "id": "377a9e6d-7907-4a6c-93e8-6ac3bd42b928",
   "metadata": {},
   "source": [
    "#### KBest"
   ]
  },
  {
   "cell_type": "code",
   "execution_count": 27,
   "id": "1a7c9a8b-ddfe-4d5c-b9b8-81f2aaf8ec8e",
   "metadata": {},
   "outputs": [],
   "source": [
    "# create the object\n",
    "kbest = SelectKBest(f_regression, k=2)"
   ]
  },
  {
   "cell_type": "code",
   "execution_count": 28,
   "id": "6f5f1572-6526-4f95-ac49-f74b9d06fa3b",
   "metadata": {},
   "outputs": [
    {
     "data": {
      "text/plain": [
       "SelectKBest(k=2, score_func=<function f_regression at 0x7fb86b0219d0>)"
      ]
     },
     "execution_count": 28,
     "metadata": {},
     "output_type": "execute_result"
    }
   ],
   "source": [
    "# fit the object\n",
    "kbest.fit(X_train, y_train)"
   ]
  },
  {
   "cell_type": "code",
   "execution_count": 29,
   "id": "19012324-02b5-4029-b501-6f8523164ee5",
   "metadata": {},
   "outputs": [
    {
     "data": {
      "text/plain": [
       "['total_bill_scaled', 'price_per_person_scaled']"
      ]
     },
     "execution_count": 29,
     "metadata": {},
     "output_type": "execute_result"
    }
   ],
   "source": [
    "X_train.columns[kbest.get_support()].tolist()"
   ]
  },
  {
   "cell_type": "markdown",
   "id": "8760f6d2-c789-4ba0-a523-3cecc7ae37f9",
   "metadata": {},
   "source": [
    "#### RFE"
   ]
  },
  {
   "cell_type": "code",
   "execution_count": 30,
   "id": "03a3b69e-2587-447b-9f8f-ca785f1a23f2",
   "metadata": {},
   "outputs": [],
   "source": [
    "# create the object\n",
    "rfe = RFE(estimator=LinearRegression(), n_features_to_select=2)"
   ]
  },
  {
   "cell_type": "code",
   "execution_count": 31,
   "id": "f3076e6f-6c1c-44d1-92f7-95944314b907",
   "metadata": {},
   "outputs": [
    {
     "data": {
      "text/plain": [
       "RFE(estimator=LinearRegression(), n_features_to_select=2)"
      ]
     },
     "execution_count": 31,
     "metadata": {},
     "output_type": "execute_result"
    }
   ],
   "source": [
    "# fit the object\n",
    "rfe.fit(X_train, y_train)"
   ]
  },
  {
   "cell_type": "code",
   "execution_count": 32,
   "id": "62592775-324e-4f0d-bb01-57e59ff5ef7f",
   "metadata": {},
   "outputs": [
    {
     "data": {
      "text/plain": [
       "['size_scaled', 'price_per_person_scaled']"
      ]
     },
     "execution_count": 32,
     "metadata": {},
     "output_type": "execute_result"
    }
   ],
   "source": [
    "X_train.columns[rfe.get_support()].tolist()"
   ]
  },
  {
   "cell_type": "code",
   "execution_count": 33,
   "id": "8127f59c-1aeb-46f1-b639-20d55de6c285",
   "metadata": {},
   "outputs": [],
   "source": [
    "rankings = pd.Series(rfe.ranking_, index=X_train.columns)"
   ]
  },
  {
   "cell_type": "code",
   "execution_count": 34,
   "id": "067ab449-7f9c-429d-8e0f-af4b8b9d114e",
   "metadata": {},
   "outputs": [
    {
     "data": {
      "text/plain": [
       "size_scaled                1\n",
       "price_per_person_scaled    1\n",
       "total_bill_scaled          2\n",
       "day_Sun                    3\n",
       "smoker                     4\n",
       "male                       5\n",
       "day_Sat                    6\n",
       "day_Fri                    7\n",
       "day_Thur                   8\n",
       "dinner                     9\n",
       "dtype: int64"
      ]
     },
     "execution_count": 34,
     "metadata": {},
     "output_type": "execute_result"
    }
   ],
   "source": [
    "rankings.sort_values()"
   ]
  },
  {
   "cell_type": "markdown",
   "id": "a3d5cea0-6a23-4a77-a4d5-1a5d5522c3b5",
   "metadata": {},
   "source": [
    "- Why do you think select k best and recursive feature elimination might give different answers for the top features? Does this change as you change the number of features your are selecting?"
   ]
  },
  {
   "cell_type": "markdown",
   "id": "4c1e15ee-f8ea-4d7b-a593-684d327e0651",
   "metadata": {},
   "source": [
    "**They probably gave different features due to the fact that KBest evaluates each column in isolation while RFE takes into account interaction between columns**\n",
    "\n",
    "**Each has provided different results for varying numbers of features selected**"
   ]
  },
  {
   "cell_type": "markdown",
   "id": "0b8d906a-43dc-419e-a070-e7b401074996",
   "metadata": {},
   "source": [
    "## 2."
   ]
  },
  {
   "cell_type": "markdown",
   "id": "43d2c95e-04f2-4052-b43e-51209ae85768",
   "metadata": {},
   "source": [
    "Write a function named `select_kbest` that takes in the predictors (X), the target (y), and the number of features to select (k) and returns the names of the top k selected features based on the `SelectKBest` class. Test your function with the `tips` dataset. You should see the same results as when you did the process manually."
   ]
  },
  {
   "cell_type": "code",
   "execution_count": 35,
   "id": "631ca407-4561-4b20-9a0c-445f7beb2c9f",
   "metadata": {},
   "outputs": [],
   "source": [
    "def select_kbest(X, y, k):\n",
    "    kbest = SelectKBest(f_regression, k=k)\n",
    "    kbest.fit(X, y)\n",
    "    return X.columns[kbest.get_support()].tolist()"
   ]
  },
  {
   "cell_type": "code",
   "execution_count": 36,
   "id": "ac25f454-66ca-4234-91f0-415ff8d468dc",
   "metadata": {},
   "outputs": [
    {
     "data": {
      "text/plain": [
       "['total_bill_scaled', 'price_per_person_scaled']"
      ]
     },
     "execution_count": 36,
     "metadata": {},
     "output_type": "execute_result"
    }
   ],
   "source": [
    "select_kbest(X_train, y_train, 2)"
   ]
  },
  {
   "cell_type": "markdown",
   "id": "683bb248-81ca-4cbb-b789-dfb857d5b767",
   "metadata": {},
   "source": [
    "## 3."
   ]
  },
  {
   "cell_type": "markdown",
   "id": "df39ac41-aa13-4526-95e4-d4bf1fae5b78",
   "metadata": {},
   "source": [
    "Write a function named `rfe` that takes in the predictors, the target, and the number of features to select. It should return the top k features based on the `RFE` class. Test your function with the `tips` dataset. You should see the same results as when you did the process manually."
   ]
  },
  {
   "cell_type": "code",
   "execution_count": 37,
   "id": "dd60095b-db85-45f4-a1b1-152858bb307b",
   "metadata": {},
   "outputs": [],
   "source": [
    "def rfe(X, y, n):\n",
    "    rfe = RFE(estimator=LinearRegression(), n_features_to_select=n)\n",
    "    rfe.fit(X, y)\n",
    "    return X.columns[rfe.get_support()].tolist()"
   ]
  },
  {
   "cell_type": "code",
   "execution_count": 38,
   "id": "5e404a41-d149-42a5-82d1-1343ca21ef7f",
   "metadata": {},
   "outputs": [
    {
     "data": {
      "text/plain": [
       "['size_scaled', 'price_per_person_scaled']"
      ]
     },
     "execution_count": 38,
     "metadata": {},
     "output_type": "execute_result"
    }
   ],
   "source": [
    "rfe(X_train, y_train, 2)"
   ]
  },
  {
   "cell_type": "code",
   "execution_count": 39,
   "id": "c8328876-a074-4cce-abc0-d326a006a34f",
   "metadata": {},
   "outputs": [],
   "source": [
    "def show_rfe_feature_ranking(X, y):\n",
    "    rfe = RFE(estimator=LinearRegression(), n_features_to_select=1)\n",
    "    rfe.fit(X, y)\n",
    "    rankings = pd.Series(rfe.ranking_, index=X.columns)\n",
    "    return rankings.sort_values()"
   ]
  },
  {
   "cell_type": "code",
   "execution_count": 40,
   "id": "f0a521d3-7f0f-449a-9d00-78eaba2e68fc",
   "metadata": {},
   "outputs": [
    {
     "data": {
      "text/plain": [
       "price_per_person_scaled     1\n",
       "size_scaled                 2\n",
       "total_bill_scaled           3\n",
       "day_Sun                     4\n",
       "smoker                      5\n",
       "male                        6\n",
       "day_Sat                     7\n",
       "day_Fri                     8\n",
       "day_Thur                    9\n",
       "dinner                     10\n",
       "dtype: int64"
      ]
     },
     "execution_count": 40,
     "metadata": {},
     "output_type": "execute_result"
    }
   ],
   "source": [
    "show_rfe_feature_ranking(X_train, y_train)"
   ]
  },
  {
   "cell_type": "markdown",
   "id": "7e12c6e4-78b1-4738-b868-eb827c40820b",
   "metadata": {},
   "source": [
    "## 4."
   ]
  },
  {
   "cell_type": "markdown",
   "id": "fe1aa089-05b3-41cf-9abf-decd5d380fbe",
   "metadata": {},
   "source": [
    "Load the `swiss` dataset and use all the other features to predict Fertility. Find the top 3 features using both select k best and recursive feature elimination (use the functions you just built to help you out)."
   ]
  },
  {
   "cell_type": "code",
   "execution_count": 41,
   "id": "43e6a885-c621-4782-a494-aaeacb0fd9d7",
   "metadata": {},
   "outputs": [],
   "source": [
    "swiss = data('swiss')"
   ]
  },
  {
   "cell_type": "code",
   "execution_count": 42,
   "id": "40faf74f-3d7e-4c2b-9535-9d8cecbad36b",
   "metadata": {},
   "outputs": [
    {
     "data": {
      "text/html": [
       "<div>\n",
       "<style scoped>\n",
       "    .dataframe tbody tr th:only-of-type {\n",
       "        vertical-align: middle;\n",
       "    }\n",
       "\n",
       "    .dataframe tbody tr th {\n",
       "        vertical-align: top;\n",
       "    }\n",
       "\n",
       "    .dataframe thead th {\n",
       "        text-align: right;\n",
       "    }\n",
       "</style>\n",
       "<table border=\"1\" class=\"dataframe\">\n",
       "  <thead>\n",
       "    <tr style=\"text-align: right;\">\n",
       "      <th></th>\n",
       "      <th>Fertility</th>\n",
       "      <th>Agriculture</th>\n",
       "      <th>Examination</th>\n",
       "      <th>Education</th>\n",
       "      <th>Catholic</th>\n",
       "      <th>Infant.Mortality</th>\n",
       "    </tr>\n",
       "  </thead>\n",
       "  <tbody>\n",
       "    <tr>\n",
       "      <th>Courtelary</th>\n",
       "      <td>80.2</td>\n",
       "      <td>17.0</td>\n",
       "      <td>15</td>\n",
       "      <td>12</td>\n",
       "      <td>9.96</td>\n",
       "      <td>22.2</td>\n",
       "    </tr>\n",
       "    <tr>\n",
       "      <th>Delemont</th>\n",
       "      <td>83.1</td>\n",
       "      <td>45.1</td>\n",
       "      <td>6</td>\n",
       "      <td>9</td>\n",
       "      <td>84.84</td>\n",
       "      <td>22.2</td>\n",
       "    </tr>\n",
       "    <tr>\n",
       "      <th>Franches-Mnt</th>\n",
       "      <td>92.5</td>\n",
       "      <td>39.7</td>\n",
       "      <td>5</td>\n",
       "      <td>5</td>\n",
       "      <td>93.40</td>\n",
       "      <td>20.2</td>\n",
       "    </tr>\n",
       "    <tr>\n",
       "      <th>Moutier</th>\n",
       "      <td>85.8</td>\n",
       "      <td>36.5</td>\n",
       "      <td>12</td>\n",
       "      <td>7</td>\n",
       "      <td>33.77</td>\n",
       "      <td>20.3</td>\n",
       "    </tr>\n",
       "    <tr>\n",
       "      <th>Neuveville</th>\n",
       "      <td>76.9</td>\n",
       "      <td>43.5</td>\n",
       "      <td>17</td>\n",
       "      <td>15</td>\n",
       "      <td>5.16</td>\n",
       "      <td>20.6</td>\n",
       "    </tr>\n",
       "  </tbody>\n",
       "</table>\n",
       "</div>"
      ],
      "text/plain": [
       "              Fertility  Agriculture  Examination  Education  Catholic  \\\n",
       "Courtelary         80.2         17.0           15         12      9.96   \n",
       "Delemont           83.1         45.1            6          9     84.84   \n",
       "Franches-Mnt       92.5         39.7            5          5     93.40   \n",
       "Moutier            85.8         36.5           12          7     33.77   \n",
       "Neuveville         76.9         43.5           17         15      5.16   \n",
       "\n",
       "              Infant.Mortality  \n",
       "Courtelary                22.2  \n",
       "Delemont                  22.2  \n",
       "Franches-Mnt              20.2  \n",
       "Moutier                   20.3  \n",
       "Neuveville                20.6  "
      ]
     },
     "execution_count": 42,
     "metadata": {},
     "output_type": "execute_result"
    }
   ],
   "source": [
    "swiss.head()"
   ]
  },
  {
   "cell_type": "code",
   "execution_count": 43,
   "id": "7104c6f9-f0b1-4d08-a4db-f11a2c33e75e",
   "metadata": {},
   "outputs": [],
   "source": [
    "swiss = swiss.rename(columns={'Infant.Mortality' : 'Infant_Mortality'})"
   ]
  },
  {
   "cell_type": "code",
   "execution_count": 44,
   "id": "7036e996-d60a-4211-9e64-b67a2eba5ce1",
   "metadata": {},
   "outputs": [],
   "source": [
    "# split data\n",
    "train_validate, test = train_test_split(swiss, test_size=0.20, random_state=123)\n",
    "train, validate = train_test_split(train_validate, test_size=.25, random_state=123)"
   ]
  },
  {
   "cell_type": "code",
   "execution_count": 45,
   "id": "f6613a70-bf0c-4b6f-bb17-d09e7b72ea2f",
   "metadata": {},
   "outputs": [
    {
     "data": {
      "text/plain": [
       "((27, 6), (10, 6), (10, 6))"
      ]
     },
     "execution_count": 45,
     "metadata": {},
     "output_type": "execute_result"
    }
   ],
   "source": [
    "train.shape, validate.shape, test.shape"
   ]
  },
  {
   "cell_type": "code",
   "execution_count": 46,
   "id": "1ffb1a07-b802-4e10-884e-bf9e6ada4aef",
   "metadata": {},
   "outputs": [],
   "source": [
    "train_scaled, validate_scaled, test_scaled = w.add_scaled_columns(train, validate, test, MinMaxScaler(), ['Agriculture', 'Examination', 'Education', 'Catholic', 'Infant_Mortality'])"
   ]
  },
  {
   "cell_type": "code",
   "execution_count": 47,
   "id": "7755787b-26e7-4355-8a02-280952c24a65",
   "metadata": {},
   "outputs": [
    {
     "data": {
      "text/html": [
       "<div>\n",
       "<style scoped>\n",
       "    .dataframe tbody tr th:only-of-type {\n",
       "        vertical-align: middle;\n",
       "    }\n",
       "\n",
       "    .dataframe tbody tr th {\n",
       "        vertical-align: top;\n",
       "    }\n",
       "\n",
       "    .dataframe thead th {\n",
       "        text-align: right;\n",
       "    }\n",
       "</style>\n",
       "<table border=\"1\" class=\"dataframe\">\n",
       "  <thead>\n",
       "    <tr style=\"text-align: right;\">\n",
       "      <th></th>\n",
       "      <th>Fertility</th>\n",
       "      <th>Agriculture</th>\n",
       "      <th>Examination</th>\n",
       "      <th>Education</th>\n",
       "      <th>Catholic</th>\n",
       "      <th>Infant_Mortality</th>\n",
       "      <th>Agriculture_scaled</th>\n",
       "      <th>Examination_scaled</th>\n",
       "      <th>Education_scaled</th>\n",
       "      <th>Catholic_scaled</th>\n",
       "      <th>Infant_Mortality_scaled</th>\n",
       "    </tr>\n",
       "  </thead>\n",
       "  <tbody>\n",
       "    <tr>\n",
       "      <th>Rive Droite</th>\n",
       "      <td>44.7</td>\n",
       "      <td>46.6</td>\n",
       "      <td>16</td>\n",
       "      <td>29</td>\n",
       "      <td>50.43</td>\n",
       "      <td>18.2</td>\n",
       "      <td>0.474390</td>\n",
       "      <td>0.40625</td>\n",
       "      <td>0.903226</td>\n",
       "      <td>0.492786</td>\n",
       "      <td>0.316327</td>\n",
       "    </tr>\n",
       "    <tr>\n",
       "      <th>Aubonne</th>\n",
       "      <td>66.9</td>\n",
       "      <td>67.5</td>\n",
       "      <td>14</td>\n",
       "      <td>7</td>\n",
       "      <td>2.27</td>\n",
       "      <td>19.1</td>\n",
       "      <td>0.729268</td>\n",
       "      <td>0.34375</td>\n",
       "      <td>0.193548</td>\n",
       "      <td>0.000000</td>\n",
       "      <td>0.408163</td>\n",
       "    </tr>\n",
       "    <tr>\n",
       "      <th>Rolle</th>\n",
       "      <td>60.5</td>\n",
       "      <td>60.8</td>\n",
       "      <td>16</td>\n",
       "      <td>10</td>\n",
       "      <td>7.72</td>\n",
       "      <td>16.3</td>\n",
       "      <td>0.647561</td>\n",
       "      <td>0.40625</td>\n",
       "      <td>0.290323</td>\n",
       "      <td>0.055766</td>\n",
       "      <td>0.122449</td>\n",
       "    </tr>\n",
       "    <tr>\n",
       "      <th>Lavaux</th>\n",
       "      <td>65.1</td>\n",
       "      <td>73.0</td>\n",
       "      <td>19</td>\n",
       "      <td>9</td>\n",
       "      <td>2.84</td>\n",
       "      <td>20.0</td>\n",
       "      <td>0.796341</td>\n",
       "      <td>0.50000</td>\n",
       "      <td>0.258065</td>\n",
       "      <td>0.005832</td>\n",
       "      <td>0.500000</td>\n",
       "    </tr>\n",
       "    <tr>\n",
       "      <th>Nyone</th>\n",
       "      <td>56.6</td>\n",
       "      <td>50.9</td>\n",
       "      <td>22</td>\n",
       "      <td>12</td>\n",
       "      <td>15.14</td>\n",
       "      <td>16.7</td>\n",
       "      <td>0.526829</td>\n",
       "      <td>0.59375</td>\n",
       "      <td>0.354839</td>\n",
       "      <td>0.131689</td>\n",
       "      <td>0.163265</td>\n",
       "    </tr>\n",
       "  </tbody>\n",
       "</table>\n",
       "</div>"
      ],
      "text/plain": [
       "             Fertility  Agriculture  Examination  Education  Catholic  \\\n",
       "Rive Droite       44.7         46.6           16         29     50.43   \n",
       "Aubonne           66.9         67.5           14          7      2.27   \n",
       "Rolle             60.5         60.8           16         10      7.72   \n",
       "Lavaux            65.1         73.0           19          9      2.84   \n",
       "Nyone             56.6         50.9           22         12     15.14   \n",
       "\n",
       "             Infant_Mortality  Agriculture_scaled  Examination_scaled  \\\n",
       "Rive Droite              18.2            0.474390             0.40625   \n",
       "Aubonne                  19.1            0.729268             0.34375   \n",
       "Rolle                    16.3            0.647561             0.40625   \n",
       "Lavaux                   20.0            0.796341             0.50000   \n",
       "Nyone                    16.7            0.526829             0.59375   \n",
       "\n",
       "             Education_scaled  Catholic_scaled  Infant_Mortality_scaled  \n",
       "Rive Droite          0.903226         0.492786                 0.316327  \n",
       "Aubonne              0.193548         0.000000                 0.408163  \n",
       "Rolle                0.290323         0.055766                 0.122449  \n",
       "Lavaux               0.258065         0.005832                 0.500000  \n",
       "Nyone                0.354839         0.131689                 0.163265  "
      ]
     },
     "execution_count": 47,
     "metadata": {},
     "output_type": "execute_result"
    }
   ],
   "source": [
    "train_scaled.head()"
   ]
  },
  {
   "cell_type": "code",
   "execution_count": 48,
   "id": "efbfa751-7261-4669-8af5-573aee64ce44",
   "metadata": {},
   "outputs": [],
   "source": [
    "# create X & y versions of splits, where y is a series with just the target variable and X are all the features. \n",
    "\n",
    "X_train = train_scaled.drop(columns=['Fertility', 'Agriculture', 'Examination', 'Education', 'Catholic', 'Infant_Mortality'])\n",
    "y_train = train_scaled.Fertility\n",
    "\n",
    "X_validate = validate_scaled.drop(columns=['Fertility', 'Agriculture', 'Examination', 'Education', 'Catholic', 'Infant_Mortality'])\n",
    "y_validate = validate_scaled.Fertility\n",
    "\n",
    "X_test = test_scaled.drop(columns=['Fertility', 'Agriculture', 'Examination', 'Education', 'Catholic', 'Infant_Mortality'])\n",
    "y_test = test_scaled.Fertility"
   ]
  },
  {
   "cell_type": "code",
   "execution_count": 49,
   "id": "cb931cf3-a55a-40c7-8e79-21519f7010db",
   "metadata": {},
   "outputs": [
    {
     "data": {
      "text/html": [
       "<div>\n",
       "<style scoped>\n",
       "    .dataframe tbody tr th:only-of-type {\n",
       "        vertical-align: middle;\n",
       "    }\n",
       "\n",
       "    .dataframe tbody tr th {\n",
       "        vertical-align: top;\n",
       "    }\n",
       "\n",
       "    .dataframe thead th {\n",
       "        text-align: right;\n",
       "    }\n",
       "</style>\n",
       "<table border=\"1\" class=\"dataframe\">\n",
       "  <thead>\n",
       "    <tr style=\"text-align: right;\">\n",
       "      <th></th>\n",
       "      <th>Agriculture_scaled</th>\n",
       "      <th>Examination_scaled</th>\n",
       "      <th>Education_scaled</th>\n",
       "      <th>Catholic_scaled</th>\n",
       "      <th>Infant_Mortality_scaled</th>\n",
       "    </tr>\n",
       "  </thead>\n",
       "  <tbody>\n",
       "    <tr>\n",
       "      <th>Rive Droite</th>\n",
       "      <td>0.474390</td>\n",
       "      <td>0.40625</td>\n",
       "      <td>0.903226</td>\n",
       "      <td>0.492786</td>\n",
       "      <td>0.316327</td>\n",
       "    </tr>\n",
       "    <tr>\n",
       "      <th>Aubonne</th>\n",
       "      <td>0.729268</td>\n",
       "      <td>0.34375</td>\n",
       "      <td>0.193548</td>\n",
       "      <td>0.000000</td>\n",
       "      <td>0.408163</td>\n",
       "    </tr>\n",
       "    <tr>\n",
       "      <th>Rolle</th>\n",
       "      <td>0.647561</td>\n",
       "      <td>0.40625</td>\n",
       "      <td>0.290323</td>\n",
       "      <td>0.055766</td>\n",
       "      <td>0.122449</td>\n",
       "    </tr>\n",
       "    <tr>\n",
       "      <th>Lavaux</th>\n",
       "      <td>0.796341</td>\n",
       "      <td>0.50000</td>\n",
       "      <td>0.258065</td>\n",
       "      <td>0.005832</td>\n",
       "      <td>0.500000</td>\n",
       "    </tr>\n",
       "    <tr>\n",
       "      <th>Nyone</th>\n",
       "      <td>0.526829</td>\n",
       "      <td>0.59375</td>\n",
       "      <td>0.354839</td>\n",
       "      <td>0.131689</td>\n",
       "      <td>0.163265</td>\n",
       "    </tr>\n",
       "  </tbody>\n",
       "</table>\n",
       "</div>"
      ],
      "text/plain": [
       "             Agriculture_scaled  Examination_scaled  Education_scaled  \\\n",
       "Rive Droite            0.474390             0.40625          0.903226   \n",
       "Aubonne                0.729268             0.34375          0.193548   \n",
       "Rolle                  0.647561             0.40625          0.290323   \n",
       "Lavaux                 0.796341             0.50000          0.258065   \n",
       "Nyone                  0.526829             0.59375          0.354839   \n",
       "\n",
       "             Catholic_scaled  Infant_Mortality_scaled  \n",
       "Rive Droite         0.492786                 0.316327  \n",
       "Aubonne             0.000000                 0.408163  \n",
       "Rolle               0.055766                 0.122449  \n",
       "Lavaux              0.005832                 0.500000  \n",
       "Nyone               0.131689                 0.163265  "
      ]
     },
     "execution_count": 49,
     "metadata": {},
     "output_type": "execute_result"
    }
   ],
   "source": [
    "X_train.head()"
   ]
  },
  {
   "cell_type": "code",
   "execution_count": 50,
   "id": "f830a6d5-f532-43b1-a4bb-196fa101cbbb",
   "metadata": {},
   "outputs": [
    {
     "data": {
      "text/plain": [
       "['Examination_scaled', 'Catholic_scaled', 'Infant_Mortality_scaled']"
      ]
     },
     "execution_count": 50,
     "metadata": {},
     "output_type": "execute_result"
    }
   ],
   "source": [
    "select_kbest(X_train, y_train, 3)"
   ]
  },
  {
   "cell_type": "code",
   "execution_count": 51,
   "id": "92efbaa4-d89d-44a4-8959-7ad9cb666aae",
   "metadata": {},
   "outputs": [
    {
     "data": {
      "text/plain": [
       "['Examination_scaled', 'Education_scaled', 'Infant_Mortality_scaled']"
      ]
     },
     "execution_count": 51,
     "metadata": {},
     "output_type": "execute_result"
    }
   ],
   "source": [
    "rfe(X_train, y_train, 3)"
   ]
  },
  {
   "cell_type": "code",
   "execution_count": 52,
   "id": "06165d90-938a-49af-bbf8-bbab6f18fa8f",
   "metadata": {},
   "outputs": [
    {
     "data": {
      "text/plain": [
       "Examination_scaled         1\n",
       "Infant_Mortality_scaled    2\n",
       "Education_scaled           3\n",
       "Agriculture_scaled         4\n",
       "Catholic_scaled            5\n",
       "dtype: int64"
      ]
     },
     "execution_count": 52,
     "metadata": {},
     "output_type": "execute_result"
    }
   ],
   "source": [
    "show_rfe_feature_ranking(X_train, y_train)"
   ]
  },
  {
   "cell_type": "markdown",
   "id": "aa3e2e84-1e60-40bf-9d90-754de2a027e5",
   "metadata": {},
   "source": [
    "**Interestingly, same features were selected by both methods in this case**"
   ]
  }
 ],
 "metadata": {
  "kernelspec": {
   "display_name": "Python 3",
   "language": "python",
   "name": "python3"
  },
  "language_info": {
   "codemirror_mode": {
    "name": "ipython",
    "version": 3
   },
   "file_extension": ".py",
   "mimetype": "text/x-python",
   "name": "python",
   "nbconvert_exporter": "python",
   "pygments_lexer": "ipython3",
   "version": "3.8.8"
  }
 },
 "nbformat": 4,
 "nbformat_minor": 5
}
