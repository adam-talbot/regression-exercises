{
 "cells": [
  {
   "cell_type": "code",
   "execution_count": 33,
   "id": "c6fe54b2-12d4-462c-bfef-3573b6bfa64c",
   "metadata": {},
   "outputs": [],
   "source": [
    "# standard imports\n",
    "import pandas as pd\n",
    "import numpy as np\n",
    "import seaborn as sns\n",
    "import matplotlib.pyplot as plt\n",
    "\n",
    "# ignore warnings\n",
    "import warnings\n",
    "warnings.filterwarnings(\"ignore\")\n",
    "\n",
    "# Custom module imports\n",
    "import wrangle as w"
   ]
  },
  {
   "cell_type": "markdown",
   "id": "adf0b7c9-49e0-4d92-b39d-5e97b2a6ff2b",
   "metadata": {},
   "source": [
    "# Regression Wrangling Exercises\n",
    "---"
   ]
  },
  {
   "cell_type": "markdown",
   "id": "ea538b6e-bf17-4d4d-8fe1-cc76ed2ba458",
   "metadata": {},
   "source": [
    "## Exercises I\n",
    "---"
   ]
  },
  {
   "cell_type": "markdown",
   "id": "486d0910-a27f-4c62-82e2-1448b1014b20",
   "metadata": {},
   "source": [
    "Let's review the steps we take at the beginning of each new module.\n",
    "\n",
    "1. Create a new repository named `regression-exercises` in your GitHub; all of your Regression work will be housed here.\n",
    "1. Clone this repository within your local `codeup-data-science` directory.\n",
    "1. Create a `.gitignore` and make sure your list of 'files to ignore' includes your `env.py` file.\n",
    "1. Ceate a `README.md` file that outlines the contents and purpose of your repository.\n",
    "1. Add, commit, and push these two files.\n",
    "1. Now you can add your `env.py` file to this repository to access the Codeup database server.\n",
    "1. For these exercises, you will create `wrangle.ipynb` and `wrangle.py` files to hold necessary functions.\n",
    "1. As always, add, commit, and push your work often.\n",
    "---"
   ]
  },
  {
   "cell_type": "markdown",
   "id": "0f1f8f03-d7c7-4c99-aac1-780b2491f84c",
   "metadata": {},
   "source": [
    "## Exercises II\n",
    "---"
   ]
  },
  {
   "cell_type": "markdown",
   "id": "3ccc4b7b-79a6-421a-985c-83e5aaa5dd4b",
   "metadata": {},
   "source": [
    "### 1."
   ]
  },
  {
   "cell_type": "markdown",
   "id": "0e9ed70e-370f-48d2-b25e-604164fdb7d4",
   "metadata": {},
   "source": [
    "Acquire `bedroomcnt`, `bathroomcnt`, `calculatedfinishedsquarefeet`, `taxvaluedollarcnt`, `yearbuilt`, `taxamount`, and `fips` from the `zillow` database for all 'Single Family Residential' properties."
   ]
  },
  {
   "cell_type": "code",
   "execution_count": 63,
   "id": "555c8115-2c49-4c15-bf47-837e086de59b",
   "metadata": {},
   "outputs": [],
   "source": [
    "df = w.get_zillow_sfr_data()"
   ]
  },
  {
   "cell_type": "markdown",
   "id": "1fe7e361-525d-4f3f-adf4-db0df33fc368",
   "metadata": {},
   "source": [
    "### 2."
   ]
  },
  {
   "cell_type": "markdown",
   "id": "bb516436-b965-4480-be4e-1feb9fe34bb2",
   "metadata": {},
   "source": [
    "Using your acquired Zillow data, walk through the summarization and cleaning steps in your `wrangle.ipynb` file like we did above. You may handle the missing values however you feel is appropriate and meaninful; remember to document your process and decisions using markdown and code commenting where helpful."
   ]
  },
  {
   "cell_type": "markdown",
   "id": "2375ed23-fb21-420e-9073-6a91687d2a95",
   "metadata": {},
   "source": [
    "#### Summarize"
   ]
  },
  {
   "cell_type": "code",
   "execution_count": 64,
   "id": "30e7e604-0534-4452-bdfd-9e599752fb7e",
   "metadata": {},
   "outputs": [
    {
     "data": {
      "text/html": [
       "<div>\n",
       "<style scoped>\n",
       "    .dataframe tbody tr th:only-of-type {\n",
       "        vertical-align: middle;\n",
       "    }\n",
       "\n",
       "    .dataframe tbody tr th {\n",
       "        vertical-align: top;\n",
       "    }\n",
       "\n",
       "    .dataframe thead th {\n",
       "        text-align: right;\n",
       "    }\n",
       "</style>\n",
       "<table border=\"1\" class=\"dataframe\">\n",
       "  <thead>\n",
       "    <tr style=\"text-align: right;\">\n",
       "      <th></th>\n",
       "      <th>bedroomcnt</th>\n",
       "      <th>bathroomcnt</th>\n",
       "      <th>calculatedfinishedsquarefeet</th>\n",
       "      <th>taxvaluedollarcnt</th>\n",
       "      <th>yearbuilt</th>\n",
       "      <th>taxamount</th>\n",
       "      <th>fips</th>\n",
       "    </tr>\n",
       "  </thead>\n",
       "  <tbody>\n",
       "    <tr>\n",
       "      <th>0</th>\n",
       "      <td>0.0</td>\n",
       "      <td>0.0</td>\n",
       "      <td>NaN</td>\n",
       "      <td>27516.0</td>\n",
       "      <td>NaN</td>\n",
       "      <td>NaN</td>\n",
       "      <td>6037.0</td>\n",
       "    </tr>\n",
       "    <tr>\n",
       "      <th>1</th>\n",
       "      <td>0.0</td>\n",
       "      <td>0.0</td>\n",
       "      <td>NaN</td>\n",
       "      <td>10.0</td>\n",
       "      <td>NaN</td>\n",
       "      <td>NaN</td>\n",
       "      <td>6037.0</td>\n",
       "    </tr>\n",
       "    <tr>\n",
       "      <th>2</th>\n",
       "      <td>0.0</td>\n",
       "      <td>0.0</td>\n",
       "      <td>NaN</td>\n",
       "      <td>10.0</td>\n",
       "      <td>NaN</td>\n",
       "      <td>NaN</td>\n",
       "      <td>6037.0</td>\n",
       "    </tr>\n",
       "    <tr>\n",
       "      <th>3</th>\n",
       "      <td>0.0</td>\n",
       "      <td>0.0</td>\n",
       "      <td>NaN</td>\n",
       "      <td>2108.0</td>\n",
       "      <td>NaN</td>\n",
       "      <td>174.21</td>\n",
       "      <td>6037.0</td>\n",
       "    </tr>\n",
       "    <tr>\n",
       "      <th>4</th>\n",
       "      <td>4.0</td>\n",
       "      <td>2.0</td>\n",
       "      <td>3633.0</td>\n",
       "      <td>296425.0</td>\n",
       "      <td>2005.0</td>\n",
       "      <td>6941.39</td>\n",
       "      <td>6037.0</td>\n",
       "    </tr>\n",
       "  </tbody>\n",
       "</table>\n",
       "</div>"
      ],
      "text/plain": [
       "   bedroomcnt  bathroomcnt  calculatedfinishedsquarefeet  taxvaluedollarcnt  \\\n",
       "0         0.0          0.0                           NaN            27516.0   \n",
       "1         0.0          0.0                           NaN               10.0   \n",
       "2         0.0          0.0                           NaN               10.0   \n",
       "3         0.0          0.0                           NaN             2108.0   \n",
       "4         4.0          2.0                        3633.0           296425.0   \n",
       "\n",
       "   yearbuilt  taxamount    fips  \n",
       "0        NaN        NaN  6037.0  \n",
       "1        NaN        NaN  6037.0  \n",
       "2        NaN        NaN  6037.0  \n",
       "3        NaN     174.21  6037.0  \n",
       "4     2005.0    6941.39  6037.0  "
      ]
     },
     "execution_count": 64,
     "metadata": {},
     "output_type": "execute_result"
    }
   ],
   "source": [
    "df.head()"
   ]
  },
  {
   "cell_type": "markdown",
   "id": "8f418052-1d04-45b0-80b1-fc3ee9e02673",
   "metadata": {},
   "source": [
    "**Takeaways**\n",
    "- Lot of null values already being seen\n",
    "- fips got messed up and needs to be changed back to 06037 and string dtype"
   ]
  },
  {
   "cell_type": "code",
   "execution_count": 65,
   "id": "e4a70347-8a26-412b-aba3-20f7f0503ed7",
   "metadata": {},
   "outputs": [
    {
     "data": {
      "text/plain": [
       "(2152863, 7)"
      ]
     },
     "execution_count": 65,
     "metadata": {},
     "output_type": "execute_result"
    }
   ],
   "source": [
    "df.shape"
   ]
  },
  {
   "cell_type": "code",
   "execution_count": 66,
   "id": "add53b20-7b5c-45cc-99b4-9b68dd123f10",
   "metadata": {},
   "outputs": [
    {
     "data": {
      "text/html": [
       "<div>\n",
       "<style scoped>\n",
       "    .dataframe tbody tr th:only-of-type {\n",
       "        vertical-align: middle;\n",
       "    }\n",
       "\n",
       "    .dataframe tbody tr th {\n",
       "        vertical-align: top;\n",
       "    }\n",
       "\n",
       "    .dataframe thead th {\n",
       "        text-align: right;\n",
       "    }\n",
       "</style>\n",
       "<table border=\"1\" class=\"dataframe\">\n",
       "  <thead>\n",
       "    <tr style=\"text-align: right;\">\n",
       "      <th></th>\n",
       "      <th>count</th>\n",
       "      <th>mean</th>\n",
       "      <th>std</th>\n",
       "      <th>min</th>\n",
       "      <th>25%</th>\n",
       "      <th>50%</th>\n",
       "      <th>75%</th>\n",
       "      <th>max</th>\n",
       "    </tr>\n",
       "  </thead>\n",
       "  <tbody>\n",
       "    <tr>\n",
       "      <th>bedroomcnt</th>\n",
       "      <td>2152852.0</td>\n",
       "      <td>3.287196</td>\n",
       "      <td>0.954754</td>\n",
       "      <td>0.00</td>\n",
       "      <td>3.00</td>\n",
       "      <td>3.00</td>\n",
       "      <td>4.00</td>\n",
       "      <td>25.00</td>\n",
       "    </tr>\n",
       "    <tr>\n",
       "      <th>bathroomcnt</th>\n",
       "      <td>2152852.0</td>\n",
       "      <td>2.230688</td>\n",
       "      <td>0.999280</td>\n",
       "      <td>0.00</td>\n",
       "      <td>2.00</td>\n",
       "      <td>2.00</td>\n",
       "      <td>3.00</td>\n",
       "      <td>32.00</td>\n",
       "    </tr>\n",
       "    <tr>\n",
       "      <th>calculatedfinishedsquarefeet</th>\n",
       "      <td>2144379.0</td>\n",
       "      <td>1862.855178</td>\n",
       "      <td>1222.125124</td>\n",
       "      <td>1.00</td>\n",
       "      <td>1257.00</td>\n",
       "      <td>1623.00</td>\n",
       "      <td>2208.00</td>\n",
       "      <td>952576.00</td>\n",
       "    </tr>\n",
       "    <tr>\n",
       "      <th>taxvaluedollarcnt</th>\n",
       "      <td>2152370.0</td>\n",
       "      <td>461896.237963</td>\n",
       "      <td>699676.049600</td>\n",
       "      <td>1.00</td>\n",
       "      <td>188170.25</td>\n",
       "      <td>327671.00</td>\n",
       "      <td>534527.00</td>\n",
       "      <td>98428909.00</td>\n",
       "    </tr>\n",
       "    <tr>\n",
       "      <th>yearbuilt</th>\n",
       "      <td>2143526.0</td>\n",
       "      <td>1960.949681</td>\n",
       "      <td>22.162196</td>\n",
       "      <td>1801.00</td>\n",
       "      <td>1949.00</td>\n",
       "      <td>1958.00</td>\n",
       "      <td>1976.00</td>\n",
       "      <td>2016.00</td>\n",
       "    </tr>\n",
       "    <tr>\n",
       "      <th>taxamount</th>\n",
       "      <td>2148421.0</td>\n",
       "      <td>5634.865978</td>\n",
       "      <td>8178.910249</td>\n",
       "      <td>1.85</td>\n",
       "      <td>2534.98</td>\n",
       "      <td>4108.95</td>\n",
       "      <td>6414.32</td>\n",
       "      <td>1337755.86</td>\n",
       "    </tr>\n",
       "    <tr>\n",
       "      <th>fips</th>\n",
       "      <td>2152863.0</td>\n",
       "      <td>6048.377335</td>\n",
       "      <td>20.433292</td>\n",
       "      <td>6037.00</td>\n",
       "      <td>6037.00</td>\n",
       "      <td>6037.00</td>\n",
       "      <td>6059.00</td>\n",
       "      <td>6111.00</td>\n",
       "    </tr>\n",
       "  </tbody>\n",
       "</table>\n",
       "</div>"
      ],
      "text/plain": [
       "                                  count           mean            std  \\\n",
       "bedroomcnt                    2152852.0       3.287196       0.954754   \n",
       "bathroomcnt                   2152852.0       2.230688       0.999280   \n",
       "calculatedfinishedsquarefeet  2144379.0    1862.855178    1222.125124   \n",
       "taxvaluedollarcnt             2152370.0  461896.237963  699676.049600   \n",
       "yearbuilt                     2143526.0    1960.949681      22.162196   \n",
       "taxamount                     2148421.0    5634.865978    8178.910249   \n",
       "fips                          2152863.0    6048.377335      20.433292   \n",
       "\n",
       "                                  min        25%        50%        75%  \\\n",
       "bedroomcnt                       0.00       3.00       3.00       4.00   \n",
       "bathroomcnt                      0.00       2.00       2.00       3.00   \n",
       "calculatedfinishedsquarefeet     1.00    1257.00    1623.00    2208.00   \n",
       "taxvaluedollarcnt                1.00  188170.25  327671.00  534527.00   \n",
       "yearbuilt                     1801.00    1949.00    1958.00    1976.00   \n",
       "taxamount                        1.85    2534.98    4108.95    6414.32   \n",
       "fips                          6037.00    6037.00    6037.00    6059.00   \n",
       "\n",
       "                                      max  \n",
       "bedroomcnt                          25.00  \n",
       "bathroomcnt                         32.00  \n",
       "calculatedfinishedsquarefeet    952576.00  \n",
       "taxvaluedollarcnt             98428909.00  \n",
       "yearbuilt                         2016.00  \n",
       "taxamount                      1337755.86  \n",
       "fips                              6111.00  "
      ]
     },
     "execution_count": 66,
     "metadata": {},
     "output_type": "execute_result"
    }
   ],
   "source": [
    "df.describe().T"
   ]
  },
  {
   "cell_type": "markdown",
   "id": "c0e9532f-b2c5-4bee-9c5e-954d8c756bf1",
   "metadata": {},
   "source": [
    "**Takeaways**\n",
    "- 25 bedrooms seems too high\n",
    "- 32 bathrooms seems too high\n",
    "- 1 sqft seems too low\n",
    "- 952,000 sqft seems too high\n",
    "- house built in 1801?\n",
    "    - Should this be changed to different dtype or kept as float?\n",
    "- All columns are missing values except fips"
   ]
  },
  {
   "cell_type": "code",
   "execution_count": 67,
   "id": "82dc9609-19eb-4faa-b0aa-b56d7b728c04",
   "metadata": {},
   "outputs": [
    {
     "name": "stdout",
     "output_type": "stream",
     "text": [
      "<class 'pandas.core.frame.DataFrame'>\n",
      "Int64Index: 2152863 entries, 0 to 2152862\n",
      "Data columns (total 7 columns):\n",
      " #   Column                        Non-Null Count    Dtype  \n",
      "---  ------                        --------------    -----  \n",
      " 0   bedroomcnt                    2152852 non-null  float64\n",
      " 1   bathroomcnt                   2152852 non-null  float64\n",
      " 2   calculatedfinishedsquarefeet  2144379 non-null  float64\n",
      " 3   taxvaluedollarcnt             2152370 non-null  float64\n",
      " 4   yearbuilt                     2143526 non-null  float64\n",
      " 5   taxamount                     2148421 non-null  float64\n",
      " 6   fips                          2152863 non-null  float64\n",
      "dtypes: float64(7)\n",
      "memory usage: 131.4 MB\n"
     ]
    }
   ],
   "source": [
    "df.info(show_counts=True)"
   ]
  },
  {
   "cell_type": "markdown",
   "id": "debec779-7781-464b-92a6-246f81057cd1",
   "metadata": {},
   "source": [
    "**Takeaways**\n",
    "- All floats?\n",
    "    - Should we convert some to ints?"
   ]
  },
  {
   "cell_type": "markdown",
   "id": "6d8063f5-ac6f-41ae-b8bf-998f775a888a",
   "metadata": {},
   "source": [
    "#### Prepare/Clean"
   ]
  },
  {
   "cell_type": "code",
   "execution_count": 68,
   "id": "97bb08ab-88cb-435e-97c8-16b6ba8da59b",
   "metadata": {},
   "outputs": [
    {
     "data": {
      "text/plain": [
       "bedroomcnt                        11\n",
       "bathroomcnt                       11\n",
       "calculatedfinishedsquarefeet    8484\n",
       "taxvaluedollarcnt                493\n",
       "yearbuilt                       9337\n",
       "taxamount                       4442\n",
       "fips                               0\n",
       "dtype: int64"
      ]
     },
     "execution_count": 68,
     "metadata": {},
     "output_type": "execute_result"
    }
   ],
   "source": [
    "df.isnull().sum()"
   ]
  },
  {
   "cell_type": "code",
   "execution_count": 69,
   "id": "dc6c1a54-457d-4114-9555-bc858ce6d51f",
   "metadata": {},
   "outputs": [],
   "source": [
    "# let's drop all nulls since there aren't many compared to size of df\n",
    "df = df.dropna()"
   ]
  },
  {
   "cell_type": "code",
   "execution_count": 70,
   "id": "ff5e2aa4-a794-46c8-a9bc-23c4638ee9e1",
   "metadata": {},
   "outputs": [
    {
     "data": {
      "text/plain": [
       "bedroomcnt                      0\n",
       "bathroomcnt                     0\n",
       "calculatedfinishedsquarefeet    0\n",
       "taxvaluedollarcnt               0\n",
       "yearbuilt                       0\n",
       "taxamount                       0\n",
       "fips                            0\n",
       "dtype: int64"
      ]
     },
     "execution_count": 70,
     "metadata": {},
     "output_type": "execute_result"
    }
   ],
   "source": [
    "df.isnull().sum()"
   ]
  },
  {
   "cell_type": "markdown",
   "id": "720bdadd-86f8-4c00-8852-892d51a2440b",
   "metadata": {},
   "source": [
    "##### fips"
   ]
  },
  {
   "cell_type": "code",
   "execution_count": 71,
   "id": "af142b1f-f977-4fe1-ac31-ac884abcb9f0",
   "metadata": {},
   "outputs": [
    {
     "data": {
      "text/plain": [
       "6037.0    1425207\n",
       "6059.0     552057\n",
       "6111.0     162971\n",
       "Name: fips, dtype: int64"
      ]
     },
     "execution_count": 71,
     "metadata": {},
     "output_type": "execute_result"
    }
   ],
   "source": [
    "df.fips.value_counts()"
   ]
  },
  {
   "cell_type": "markdown",
   "id": "3ef27711-6a2b-4551-ab45-4f8b1a5d8f62",
   "metadata": {},
   "source": [
    "- There are no nulls\n",
    "- There are only 3 values represented (makes sense)\n",
    "- Only issue I see so far is the dtype and leading 0 being dropped"
   ]
  },
  {
   "cell_type": "code",
   "execution_count": 72,
   "id": "97f5e726-effd-4348-89bd-256fefd1dc7f",
   "metadata": {},
   "outputs": [],
   "source": [
    "df.fips = '0' + df.fips.astype('int').astype('string')"
   ]
  },
  {
   "cell_type": "code",
   "execution_count": 73,
   "id": "acc38384-a4ea-4f7c-b9e7-85bec3eafb55",
   "metadata": {},
   "outputs": [
    {
     "data": {
      "text/plain": [
       "06037    1425207\n",
       "06059     552057\n",
       "06111     162971\n",
       "Name: fips, dtype: Int64"
      ]
     },
     "execution_count": 73,
     "metadata": {},
     "output_type": "execute_result"
    }
   ],
   "source": [
    "df.fips.value_counts()"
   ]
  },
  {
   "cell_type": "markdown",
   "id": "67f44d07-696d-44c1-a999-605ef6964afe",
   "metadata": {},
   "source": [
    "##### visualize numerical columns"
   ]
  },
  {
   "cell_type": "code",
   "execution_count": 74,
   "id": "f085bb6f-b743-41fd-934b-58626c421d78",
   "metadata": {},
   "outputs": [
    {
     "data": {
      "image/png": "[encoded data removed]",
      "text/plain": [
       "<Figure size 1872x216 with 6 Axes>"
      ]
     },
     "metadata": {
      "needs_background": "light"
     },
     "output_type": "display_data"
    }
   ],
   "source": [
    "# bar charts\n",
    "plt.figure(figsize=(26, 3))\n",
    "\n",
    "# List of columns\n",
    "cols = df.select_dtypes('number').columns.tolist()\n",
    "\n",
    "for i, col in enumerate(cols):\n",
    "    \n",
    "    # i starts at 0, but plot nos should start at 1\n",
    "    plot_number = i + 1 \n",
    "    \n",
    "    # Create subplot.\n",
    "    plt.subplot(1,6, plot_number)\n",
    "    \n",
    "    # Title with column name.\n",
    "    plt.title(col)\n",
    "    \n",
    "    # Display histogram for column.\n",
    "    df[col].hist(edgecolor='black')\n",
    "    \n",
    "    # Hide gridlines.\n",
    "    plt.grid(False)"
   ]
  },
  {
   "cell_type": "code",
   "execution_count": 75,
   "id": "2650a1d9-8134-4afb-8041-e0900cf4618f",
   "metadata": {},
   "outputs": [
    {
     "data": {
      "image/png": "[encoded data removed]",
      "text/plain": [
       "<Figure size 2160x864 with 6 Axes>"
      ]
     },
     "metadata": {
      "needs_background": "light"
     },
     "output_type": "display_data"
    }
   ],
   "source": [
    "# boxplots\n",
    "plt.figure(figsize=(30, 12))\n",
    "\n",
    "# List of columns\n",
    "num_cols = df.select_dtypes('number').columns.tolist()\n",
    "\n",
    "for i, col in enumerate(num_cols):\n",
    "    \n",
    "    # i starts at 0, but plot nos should start at 1\n",
    "    plot_number = i + 1 \n",
    "    \n",
    "    # Create subplot.\n",
    "    plt.subplot(1,6, plot_number)\n",
    "    \n",
    "    # Title with column name.\n",
    "    plt.title(col)\n",
    "    \n",
    "    # Display boxplot for column.\n",
    "    sns.boxplot(y=col, data=df)"
   ]
  },
  {
   "cell_type": "markdown",
   "id": "f4d65a7e-9b88-4a9a-b1a2-da2f1d11f5b6",
   "metadata": {},
   "source": [
    "**Takeaways**\n",
    "- There are a lot of outliers in this dataset\n",
    "    - I will drop anything outside of the whiskers of these boxplots (Q1 – 1.5*IQR and Q3 + 1.5*IQR)"
   ]
  },
  {
   "cell_type": "markdown",
   "id": "8859a0c5-9545-4ac5-abfb-b9a3fc5541e0",
   "metadata": {},
   "source": [
    "Create a for loop that drops all data points outside whiskers for all numerical columns"
   ]
  },
  {
   "cell_type": "code",
   "execution_count": 76,
   "id": "a0656bad-6ec8-48df-b3dc-9b6119510254",
   "metadata": {},
   "outputs": [],
   "source": [
    "# try John's function\n",
    "df = remove_outliers(df, 1.5, num_cols)"
   ]
  },
  {
   "cell_type": "code",
   "execution_count": 77,
   "id": "37c2b373-a27c-4915-8e31-afe3a7bc9e6e",
   "metadata": {},
   "outputs": [
    {
     "data": {
      "text/plain": [
       "bedroomcnt                      0\n",
       "bathroomcnt                     0\n",
       "calculatedfinishedsquarefeet    0\n",
       "taxvaluedollarcnt               0\n",
       "yearbuilt                       0\n",
       "taxamount                       0\n",
       "fips                            0\n",
       "dtype: int64"
      ]
     },
     "execution_count": 77,
     "metadata": {},
     "output_type": "execute_result"
    }
   ],
   "source": [
    "df.isnull().sum()"
   ]
  },
  {
   "cell_type": "code",
   "execution_count": 79,
   "id": "1c322aed-a1ba-4f38-b9f2-69c1bbfd243c",
   "metadata": {},
   "outputs": [
    {
     "data": {
      "text/plain": [
       "(1799432, 7)"
      ]
     },
     "execution_count": 79,
     "metadata": {},
     "output_type": "execute_result"
    }
   ],
   "source": [
    "df.shape"
   ]
  },
  {
   "cell_type": "code",
   "execution_count": 15,
   "id": "c5a5ab9f-70b0-47e7-80d0-48614103977d",
   "metadata": {},
   "outputs": [
    {
     "data": {
      "text/plain": [
       "3.0"
      ]
     },
     "execution_count": 15,
     "metadata": {},
     "output_type": "execute_result"
    }
   ],
   "source": [
    "df.bedroomcnt.median()"
   ]
  },
  {
   "cell_type": "code",
   "execution_count": 16,
   "id": "e8a5a629-3240-4f20-b63b-b613dc3afa77",
   "metadata": {},
   "outputs": [
    {
     "data": {
      "text/plain": [
       "3.0"
      ]
     },
     "execution_count": 16,
     "metadata": {},
     "output_type": "execute_result"
    }
   ],
   "source": [
    "# Q1\n",
    "Q1 = np.percentile(df.bedroomcnt, 25, interpolation='midpoint')\n",
    "Q1"
   ]
  },
  {
   "cell_type": "code",
   "execution_count": 17,
   "id": "5d822050-0645-40d7-bba5-70d842bce7d5",
   "metadata": {},
   "outputs": [
    {
     "data": {
      "text/plain": [
       "4.0"
      ]
     },
     "execution_count": 17,
     "metadata": {},
     "output_type": "execute_result"
    }
   ],
   "source": [
    "# Q3\n",
    "Q3 = np.percentile(df.bedroomcnt, 75, interpolation='midpoint')\n",
    "Q3"
   ]
  },
  {
   "cell_type": "code",
   "execution_count": 18,
   "id": "3ffd3339-6a6e-476f-89b7-e87b0388d998",
   "metadata": {},
   "outputs": [
    {
     "data": {
      "text/plain": [
       "1.0"
      ]
     },
     "execution_count": 18,
     "metadata": {},
     "output_type": "execute_result"
    }
   ],
   "source": [
    "# IQR\n",
    "IQR = Q3 - Q1\n",
    "IQR"
   ]
  },
  {
   "cell_type": "code",
   "execution_count": 19,
   "id": "eece77de-10b6-4df7-8a93-06b7cafc27c3",
   "metadata": {},
   "outputs": [
    {
     "data": {
      "text/plain": [
       "5.5"
      ]
     },
     "execution_count": 19,
     "metadata": {},
     "output_type": "execute_result"
    }
   ],
   "source": [
    "# upper bound\n",
    "UB = Q3 + 1.5 * IQR\n",
    "UB"
   ]
  },
  {
   "cell_type": "code",
   "execution_count": 20,
   "id": "289816aa-b218-42d4-91ff-9c3c01901e06",
   "metadata": {},
   "outputs": [
    {
     "data": {
      "text/plain": [
       "1.5"
      ]
     },
     "execution_count": 20,
     "metadata": {},
     "output_type": "execute_result"
    }
   ],
   "source": [
    "# lower bound\n",
    "LB = Q1 - 1.5 * IQR\n",
    "LB"
   ]
  },
  {
   "cell_type": "code",
   "execution_count": 59,
   "id": "12d897eb-4b17-4d02-9c4f-fef96c7e3976",
   "metadata": {},
   "outputs": [
    {
     "data": {
      "text/plain": [
       "['bedroomcnt',\n",
       " 'bathroomcnt',\n",
       " 'calculatedfinishedsquarefeet',\n",
       " 'taxvaluedollarcnt',\n",
       " 'yearbuilt',\n",
       " 'taxamount']"
      ]
     },
     "execution_count": 59,
     "metadata": {},
     "output_type": "execute_result"
    }
   ],
   "source": [
    "num_cols = df.select_dtypes('number').columns.tolist()\n",
    "num_cols"
   ]
  },
  {
   "cell_type": "code",
   "execution_count": 22,
   "id": "4f09c293-cd58-4fd4-8a68-ded4b362ba92",
   "metadata": {},
   "outputs": [],
   "source": [
    "# put together into a for loop\n",
    "for col in num_cols:\n",
    "    Q1 = np.percentile(df[col], 25, interpolation='midpoint')\n",
    "    Q3 = np.percentile(df[col], 75, interpolation='midpoint')\n",
    "    IQR = Q3 - Q1\n",
    "    UB = Q3 + 1.5 * IQR\n",
    "    LB = Q1 - 1.5 * IQR\n",
    "    df[col] = df[col][(df[col] < UB) & (df[col] > LB)]"
   ]
  },
  {
   "cell_type": "code",
   "execution_count": 24,
   "id": "96f4dec6-5559-4bbe-ac4d-c362af4baafc",
   "metadata": {},
   "outputs": [
    {
     "data": {
      "image/png": "[encoded data removed]",
      "text/plain": [
       "<Figure size 2160x216 with 6 Axes>"
      ]
     },
     "metadata": {
      "needs_background": "light"
     },
     "output_type": "display_data"
    }
   ],
   "source": [
    "# bar charts\n",
    "plt.figure(figsize=(30, 3))\n",
    "\n",
    "# List of columns\n",
    "cols = df.select_dtypes('number').columns.tolist()\n",
    "\n",
    "for i, col in enumerate(cols):\n",
    "    \n",
    "    # i starts at 0, but plot nos should start at 1\n",
    "    plot_number = i + 1 \n",
    "    \n",
    "    # Create subplot.\n",
    "    plt.subplot(1,6, plot_number)\n",
    "    \n",
    "    # Title with column name.\n",
    "    plt.title(col)\n",
    "    \n",
    "    # Display histogram for column.\n",
    "    df[col].hist(edgecolor='black')\n",
    "    \n",
    "    # Hide gridlines.\n",
    "    plt.grid(False)"
   ]
  },
  {
   "cell_type": "markdown",
   "id": "45d67caa-e454-4f37-b4ea-92d3a7f1d643",
   "metadata": {},
   "source": [
    "***Looks much better***"
   ]
  },
  {
   "cell_type": "code",
   "execution_count": 26,
   "id": "bbb49a2b-33ce-4d56-af22-cf206771a24e",
   "metadata": {},
   "outputs": [
    {
     "data": {
      "text/plain": [
       "(2140235, 7)"
      ]
     },
     "execution_count": 26,
     "metadata": {},
     "output_type": "execute_result"
    }
   ],
   "source": [
    "df.shape"
   ]
  },
  {
   "cell_type": "code",
   "execution_count": 27,
   "id": "a55b57d9-65f5-4999-a181-360fe491b367",
   "metadata": {},
   "outputs": [
    {
     "name": "stdout",
     "output_type": "stream",
     "text": [
      "<class 'pandas.core.frame.DataFrame'>\n",
      "Int64Index: 2140235 entries, 4 to 2152862\n",
      "Data columns (total 7 columns):\n",
      " #   Column                        Dtype  \n",
      "---  ------                        -----  \n",
      " 0   bedroomcnt                    float64\n",
      " 1   bathroomcnt                   float64\n",
      " 2   calculatedfinishedsquarefeet  float64\n",
      " 3   taxvaluedollarcnt             float64\n",
      " 4   yearbuilt                     float64\n",
      " 5   taxamount                     float64\n",
      " 6   fips                          string \n",
      "dtypes: float64(6), string(1)\n",
      "memory usage: 130.6 MB\n"
     ]
    }
   ],
   "source": [
    "df.info()"
   ]
  },
  {
   "cell_type": "code",
   "execution_count": 29,
   "id": "43a2ec25-5fac-42a3-b083-f9603772c85c",
   "metadata": {},
   "outputs": [
    {
     "data": {
      "text/html": [
       "<div>\n",
       "<style scoped>\n",
       "    .dataframe tbody tr th:only-of-type {\n",
       "        vertical-align: middle;\n",
       "    }\n",
       "\n",
       "    .dataframe tbody tr th {\n",
       "        vertical-align: top;\n",
       "    }\n",
       "\n",
       "    .dataframe thead th {\n",
       "        text-align: right;\n",
       "    }\n",
       "</style>\n",
       "<table border=\"1\" class=\"dataframe\">\n",
       "  <thead>\n",
       "    <tr style=\"text-align: right;\">\n",
       "      <th></th>\n",
       "      <th>count</th>\n",
       "      <th>mean</th>\n",
       "      <th>std</th>\n",
       "      <th>min</th>\n",
       "      <th>25%</th>\n",
       "      <th>50%</th>\n",
       "      <th>75%</th>\n",
       "      <th>max</th>\n",
       "    </tr>\n",
       "  </thead>\n",
       "  <tbody>\n",
       "    <tr>\n",
       "      <th>bedroomcnt</th>\n",
       "      <td>2081444.0</td>\n",
       "      <td>3.288612</td>\n",
       "      <td>0.819289</td>\n",
       "      <td>2.00</td>\n",
       "      <td>3.0000</td>\n",
       "      <td>3.00</td>\n",
       "      <td>4.0000</td>\n",
       "      <td>5.00</td>\n",
       "    </tr>\n",
       "    <tr>\n",
       "      <th>bathroomcnt</th>\n",
       "      <td>2061933.0</td>\n",
       "      <td>2.132121</td>\n",
       "      <td>0.773821</td>\n",
       "      <td>1.00</td>\n",
       "      <td>2.0000</td>\n",
       "      <td>2.00</td>\n",
       "      <td>3.0000</td>\n",
       "      <td>4.00</td>\n",
       "    </tr>\n",
       "    <tr>\n",
       "      <th>calculatedfinishedsquarefeet</th>\n",
       "      <td>2043909.0</td>\n",
       "      <td>1721.764149</td>\n",
       "      <td>641.997968</td>\n",
       "      <td>1.00</td>\n",
       "      <td>1242.0000</td>\n",
       "      <td>1588.00</td>\n",
       "      <td>2100.0000</td>\n",
       "      <td>3632.00</td>\n",
       "    </tr>\n",
       "    <tr>\n",
       "      <th>taxvaluedollarcnt</th>\n",
       "      <td>2002735.0</td>\n",
       "      <td>351670.208291</td>\n",
       "      <td>226087.000536</td>\n",
       "      <td>22.00</td>\n",
       "      <td>179463.0000</td>\n",
       "      <td>308677.00</td>\n",
       "      <td>480865.0000</td>\n",
       "      <td>1052753.00</td>\n",
       "    </tr>\n",
       "    <tr>\n",
       "      <th>yearbuilt</th>\n",
       "      <td>2122364.0</td>\n",
       "      <td>1961.452791</td>\n",
       "      <td>21.594223</td>\n",
       "      <td>1909.00</td>\n",
       "      <td>1950.0000</td>\n",
       "      <td>1959.00</td>\n",
       "      <td>1976.0000</td>\n",
       "      <td>2016.00</td>\n",
       "    </tr>\n",
       "    <tr>\n",
       "      <th>taxamount</th>\n",
       "      <td>1994624.0</td>\n",
       "      <td>4327.446349</td>\n",
       "      <td>2549.683057</td>\n",
       "      <td>6.34</td>\n",
       "      <td>2424.4775</td>\n",
       "      <td>3875.87</td>\n",
       "      <td>5788.3575</td>\n",
       "      <td>12218.53</td>\n",
       "    </tr>\n",
       "  </tbody>\n",
       "</table>\n",
       "</div>"
      ],
      "text/plain": [
       "                                  count           mean            std  \\\n",
       "bedroomcnt                    2081444.0       3.288612       0.819289   \n",
       "bathroomcnt                   2061933.0       2.132121       0.773821   \n",
       "calculatedfinishedsquarefeet  2043909.0    1721.764149     641.997968   \n",
       "taxvaluedollarcnt             2002735.0  351670.208291  226087.000536   \n",
       "yearbuilt                     2122364.0    1961.452791      21.594223   \n",
       "taxamount                     1994624.0    4327.446349    2549.683057   \n",
       "\n",
       "                                  min          25%        50%          75%  \\\n",
       "bedroomcnt                       2.00       3.0000       3.00       4.0000   \n",
       "bathroomcnt                      1.00       2.0000       2.00       3.0000   \n",
       "calculatedfinishedsquarefeet     1.00    1242.0000    1588.00    2100.0000   \n",
       "taxvaluedollarcnt               22.00  179463.0000  308677.00  480865.0000   \n",
       "yearbuilt                     1909.00    1950.0000    1959.00    1976.0000   \n",
       "taxamount                        6.34    2424.4775    3875.87    5788.3575   \n",
       "\n",
       "                                     max  \n",
       "bedroomcnt                          5.00  \n",
       "bathroomcnt                         4.00  \n",
       "calculatedfinishedsquarefeet     3632.00  \n",
       "taxvaluedollarcnt             1052753.00  \n",
       "yearbuilt                        2016.00  \n",
       "taxamount                       12218.53  "
      ]
     },
     "execution_count": 29,
     "metadata": {},
     "output_type": "execute_result"
    }
   ],
   "source": [
    "df.describe().T"
   ]
  },
  {
   "cell_type": "code",
   "execution_count": 32,
   "id": "023e6a9b-4b49-4270-9fe0-1ce3faf17776",
   "metadata": {},
   "outputs": [
    {
     "data": {
      "text/plain": [
       "bedroomcnt                       58791\n",
       "bathroomcnt                      78302\n",
       "calculatedfinishedsquarefeet     96326\n",
       "taxvaluedollarcnt               137500\n",
       "yearbuilt                        17871\n",
       "taxamount                       145611\n",
       "fips                                 0\n",
       "dtype: int64"
      ]
     },
     "execution_count": 32,
     "metadata": {},
     "output_type": "execute_result"
    }
   ],
   "source": [
    "df.isnull().sum()"
   ]
  },
  {
   "cell_type": "code",
   "execution_count": 44,
   "id": "254acafc-e782-484e-8b8f-616e44c49536",
   "metadata": {},
   "outputs": [],
   "source": [
    "# sns.pairplot(data=df, hue='fips')"
   ]
  },
  {
   "cell_type": "markdown",
   "id": "270875ff-715b-4c0f-9581-e5175ecdd0ed",
   "metadata": {},
   "source": [
    "### 3."
   ]
  },
  {
   "cell_type": "markdown",
   "id": "ac0ba681-0229-4931-a984-5a5211b888c7",
   "metadata": {},
   "source": [
    "Store all of the necessary functions to automate your process from acquiring the data to returning a cleaned dataframe witn no missing values in your `wrangle.py` file. Name your final function `wrangle_zillow`."
   ]
  },
  {
   "cell_type": "code",
   "execution_count": null,
   "id": "996a4607-e880-404a-9c1e-45d97069e480",
   "metadata": {},
   "outputs": [],
   "source": []
  },
  {
   "cell_type": "code",
   "execution_count": null,
   "id": "42f081de-94f9-427b-a194-aa9b63593757",
   "metadata": {},
   "outputs": [],
   "source": []
  },
  {
   "cell_type": "code",
   "execution_count": null,
   "id": "50c26bd2-6106-4110-b54b-0f6bd6cbaaf5",
   "metadata": {},
   "outputs": [],
   "source": []
  },
  {
   "cell_type": "code",
   "execution_count": null,
   "id": "594c82a8-26c9-4ae1-9ad3-214e68e497b6",
   "metadata": {},
   "outputs": [],
   "source": []
  },
  {
   "cell_type": "code",
   "execution_count": 58,
   "id": "edb9ef2d-babc-49d3-994b-ae0c0a61cc41",
   "metadata": {},
   "outputs": [],
   "source": [
    "def remove_outliers(df, k, col_list):\n",
    "    ''' remove outliers from a list of columns in a dataframe \n",
    "        and return that dataframe\n",
    "    '''\n",
    "    \n",
    "    for col in col_list:\n",
    "\n",
    "        q1, q3 = df[col].quantile([.25, .75])  # get quartiles\n",
    "        \n",
    "        iqr = q3 - q1   # calculate interquartile range\n",
    "        \n",
    "        upper_bound = q3 + k * iqr   # get upper bound\n",
    "        lower_bound = q1 - k * iqr   # get lower bound\n",
    "\n",
    "        # return dataframe without outliers\n",
    "        \n",
    "        df = df[(df[col] > lower_bound) & (df[col] < upper_bound)]\n",
    "        \n",
    "    return df"
   ]
  },
  {
   "cell_type": "code",
   "execution_count": null,
   "id": "f77b1ed6-40bb-402a-ad8d-2ed0e36a4725",
   "metadata": {},
   "outputs": [],
   "source": []
  }
 ],
 "metadata": {
  "kernelspec": {
   "display_name": "Python 3",
   "language": "python",
   "name": "python3"
  },
  "language_info": {
   "codemirror_mode": {
    "name": "ipython",
    "version": 3
   },
   "file_extension": ".py",
   "mimetype": "text/x-python",
   "name": "python",
   "nbconvert_exporter": "python",
   "pygments_lexer": "ipython3",
   "version": "3.8.8"
  }
 },
 "nbformat": 4,
 "nbformat_minor": 5
}
